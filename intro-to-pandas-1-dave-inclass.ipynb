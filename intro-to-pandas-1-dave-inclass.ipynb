{
 "cells": [
  {
   "cell_type": "markdown",
   "metadata": {
    "slideshow": {
     "slide_type": "slide"
    }
   },
   "source": [
    "![](https://snag.gy/h9Xwf1.jpg)"
   ]
  },
  {
   "cell_type": "markdown",
   "metadata": {
    "nbpresent": {
     "id": "3433c1f4-195d-4a6b-8ad6-961d54c4c96d"
    },
    "slideshow": {
     "slide_type": "slide"
    }
   },
   "source": [
    "<img src=\"http://imgur.com/1ZcRyrc.png\" style=\"float: left; margin: 20px; height: 55px\">\n",
    "\n",
    "## Introduction to `pandas` 1\n",
    "\n",
    "_Authors: Dave Yerrington (SF)_\n",
    "\n",
    "---\n",
    "\n",
    "`pandas` is the most popular python package for managing datasets and is used extensively by data scientists.\n",
    "\n",
    "### Learning Objectives\n",
    "\n",
    "- Explain the difference:  Series vs DataFrame.\n",
    "- Describe basic characteristics of DataFrames.\n",
    "- Practice plotting with pandas."
   ]
  },
  {
   "cell_type": "markdown",
   "metadata": {
    "slideshow": {
     "slide_type": "slide"
    }
   },
   "source": [
    "### Lesson Guide\n",
    "\n",
    "- [Introduction to `pandas`](#introduction)\n",
    "- [Loading csv Files](#loading_csvs)\n",
    "- [Exploring Your Data](#exploring_data)\n",
    "- [Data Dimensions](#data_dimensions)\n",
    "- [DataFrames vs. Series](#dataframe_series)\n",
    "- [Using the `.info()` Function](#info)\n",
    "- [Using the `.describe()` Function](#describe)\n",
    "- [Independent Practice](#independent_practice)"
   ]
  },
  {
   "cell_type": "markdown",
   "metadata": {},
   "source": [
    "### A note on different Pandas versions.\n",
    "\n",
    "It's important to realize there are some differences between Pandas versions.  If you are using the version of the Pandas library that this lesson is tested with, this notebook should work correctly.  However, you should expect some differences at times when working with our materials related to Pandas, but you should be able to adapt any minor differences in Pandas working with different versions.\n",
    "\n",
    "Currently, this notebook is tested in v0.19.2 and v0.22.0 of Pandas.\n",
    "\n",
    "> The cell below can be run to see which version you are using currently."
   ]
  },
  {
   "cell_type": "code",
   "execution_count": 112,
   "metadata": {},
   "outputs": [
    {
     "data": {
      "text/plain": [
       "'0.22.0'"
      ]
     },
     "execution_count": 112,
     "metadata": {},
     "output_type": "execute_result"
    }
   ],
   "source": [
    "import pandas as pd\n",
    "\n",
    "pd.__version__"
   ]
  },
  {
   "cell_type": "markdown",
   "metadata": {
    "slideshow": {
     "slide_type": "slide"
    }
   },
   "source": [
    "<a id='introduction'></a>\n",
    "\n",
    "### What is `pandas`?\n",
    "\n",
    "---\n",
    "\n",
    "- Data analysis library - **P**anel **D**ata **S**ystem.\n",
    "- Created by Wes McKinney and Open Sourced by AQR Capital Management, LLC 2009.\n",
    "- Implemented in highly optimized Python/Cython.\n",
    "- Most ubiquitous tool used to start data analysis projects within the Python scientific ecosystem.\n"
   ]
  },
  {
   "cell_type": "markdown",
   "metadata": {
    "slideshow": {
     "slide_type": "slide"
    }
   },
   "source": [
    "### Pandas Use Cases\n",
    "\n",
    "---\n",
    "\n",
    "- Cleaning data / Munging\n",
    "- Exploratory Analysis\n",
    "- Structuring data for plots or tabular display\n",
    "- Joining disparate sources\n",
    "- Modeling\n",
    "- Filtering, extracting, or transforming \n"
   ]
  },
  {
   "cell_type": "markdown",
   "metadata": {},
   "source": [
    "### Discussion:  What do you think are some challenges when accessing data?\n",
    "\n",
    "Follow up:  Do you really feel it's right that data scientists typically have to clean so much data?"
   ]
  },
  {
   "cell_type": "markdown",
   "metadata": {
    "slideshow": {
     "slide_type": "slide"
    }
   },
   "source": [
    "![](https://snag.gy/tpiLCH.jpg)"
   ]
  },
  {
   "cell_type": "markdown",
   "metadata": {
    "slideshow": {
     "slide_type": "slide"
    }
   },
   "source": [
    "![](https://snag.gy/1V0Ol4.jpg)"
   ]
  },
  {
   "cell_type": "markdown",
   "metadata": {
    "slideshow": {
     "slide_type": "subslide"
    }
   },
   "source": [
    "### Common Outputs\n",
    "\n",
    "---\n",
    "\n",
    "- Export to Databases\n",
    "- Integrated with `matplotlib`\n",
    "- Collaborate in common formats (plus a variety of others)\n",
    "- Integration with Python built-ins (**and `numpy`!**)\n"
   ]
  },
  {
   "cell_type": "markdown",
   "metadata": {
    "nbpresent": {
     "id": "2114073e-4f4f-48bf-9dc8-890433270e90"
    },
    "slideshow": {
     "slide_type": "slide"
    }
   },
   "source": [
    "### Importing `pandas`\n",
    "\n",
    "---\n",
    "\n",
    "Import pandas at the top of your notebook like so:"
   ]
  },
  {
   "cell_type": "code",
   "execution_count": 113,
   "metadata": {
    "nbpresent": {
     "id": "37d682c1-2ae6-4c1d-8d54-1e7272ccfcef"
    },
    "slideshow": {
     "slide_type": "-"
    }
   },
   "outputs": [],
   "source": [
    "import pandas as pd"
   ]
  },
  {
   "cell_type": "markdown",
   "metadata": {
    "nbpresent": {
     "id": "e9917673-4eb8-403d-95ba-3068360f3dcd"
    },
    "slideshow": {
     "slide_type": "fragment"
    }
   },
   "source": [
    "Recall that the **`import pandas as pd`** syntax nicknames the `pandas` module as **`pd`** for convenience."
   ]
  },
  {
   "cell_type": "markdown",
   "metadata": {
    "nbpresent": {
     "id": "b29851ac-daa2-46fb-90f0-125e0c4683e1"
    },
    "slideshow": {
     "slide_type": "slide"
    }
   },
   "source": [
    "<a id='loading_csvs'></a>\n",
    "\n",
    "### Loading a csv into a DataFrame\n",
    "\n",
    "---\n",
    "\n",
    "Pandas can load many types of files, but one of the most common filetypes for storing data is in a ```.csv``` file. Let's load a dataset on drug use by age from the ```./datasets``` directory:"
   ]
  },
  {
   "cell_type": "code",
   "execution_count": 114,
   "metadata": {
    "nbpresent": {
     "id": "7e4ab5c8-5104-4004-9cd3-e781101e8703"
    },
    "slideshow": {
     "slide_type": "-"
    }
   },
   "outputs": [],
   "source": [
    "drug = pd.read_csv('./datasets/drug-use-by-age.csv')"
   ]
  },
  {
   "cell_type": "markdown",
   "metadata": {
    "nbpresent": {
     "id": "7c254479-e114-4b53-bb64-d9d5783d69ab"
    },
    "slideshow": {
     "slide_type": "fragment"
    }
   },
   "source": [
    "This creates a pandas object called a **DataFrame**. These are powerful containers for data with many built-in functions to explore and manipulate data.\n",
    "\n",
    "We will barely scratch the surface of DataFrame functionality in this lesson, but over the course of this class you will become an expert at using them."
   ]
  },
  {
   "cell_type": "markdown",
   "metadata": {
    "nbpresent": {
     "id": "b44c04a3-0bd8-4961-a930-092e872469d0"
    },
    "slideshow": {
     "slide_type": "slide"
    }
   },
   "source": [
    "<a id='exploring_data'></a>\n",
    "\n",
    "### Exploring data using DataFrames\n",
    "\n",
    "---\n",
    "\n",
    "DataFrames come with built-in functionality that makes data exploration easy. \n",
    "\n",
    "Let's start by looking at the \"header\" of your data with the ```.head()``` built-in function. If run alone in a notebook cell, it will show you the first and last handful of columns and the first 5 rows."
   ]
  },
  {
   "cell_type": "code",
   "execution_count": 120,
   "metadata": {
    "nbpresent": {
     "id": "f332b800-d5b7-4ee9-8d36-77ecd7c4465c"
    },
    "slideshow": {
     "slide_type": "fragment"
    }
   },
   "outputs": [
    {
     "data": {
      "text/html": [
       "<div>\n",
       "<style scoped>\n",
       "    .dataframe tbody tr th:only-of-type {\n",
       "        vertical-align: middle;\n",
       "    }\n",
       "\n",
       "    .dataframe tbody tr th {\n",
       "        vertical-align: top;\n",
       "    }\n",
       "\n",
       "    .dataframe thead th {\n",
       "        text-align: right;\n",
       "    }\n",
       "</style>\n",
       "<table border=\"1\" class=\"dataframe\">\n",
       "  <thead>\n",
       "    <tr style=\"text-align: right;\">\n",
       "      <th></th>\n",
       "      <th>age</th>\n",
       "      <th>n</th>\n",
       "      <th>alcohol-use</th>\n",
       "      <th>alcohol-frequency</th>\n",
       "      <th>marijuana-use</th>\n",
       "      <th>marijuana-frequency</th>\n",
       "      <th>cocaine-use</th>\n",
       "      <th>cocaine-frequency</th>\n",
       "      <th>crack-use</th>\n",
       "      <th>crack-frequency</th>\n",
       "      <th>...</th>\n",
       "      <th>oxycontin-use</th>\n",
       "      <th>oxycontin-frequency</th>\n",
       "      <th>tranquilizer-use</th>\n",
       "      <th>tranquilizer-frequency</th>\n",
       "      <th>stimulant-use</th>\n",
       "      <th>stimulant-frequency</th>\n",
       "      <th>meth-use</th>\n",
       "      <th>meth-frequency</th>\n",
       "      <th>sedative-use</th>\n",
       "      <th>sedative-frequency</th>\n",
       "    </tr>\n",
       "  </thead>\n",
       "  <tbody>\n",
       "    <tr>\n",
       "      <th>0</th>\n",
       "      <td>12</td>\n",
       "      <td>2798</td>\n",
       "      <td>3.9</td>\n",
       "      <td>3.0</td>\n",
       "      <td>1.1</td>\n",
       "      <td>4.0</td>\n",
       "      <td>0.1</td>\n",
       "      <td>5.0</td>\n",
       "      <td>0.0</td>\n",
       "      <td>-</td>\n",
       "      <td>...</td>\n",
       "      <td>0.1</td>\n",
       "      <td>24.5</td>\n",
       "      <td>0.2</td>\n",
       "      <td>52.0</td>\n",
       "      <td>0.2</td>\n",
       "      <td>2.0</td>\n",
       "      <td>0.0</td>\n",
       "      <td>-</td>\n",
       "      <td>0.2</td>\n",
       "      <td>13.0</td>\n",
       "    </tr>\n",
       "    <tr>\n",
       "      <th>1</th>\n",
       "      <td>13</td>\n",
       "      <td>2757</td>\n",
       "      <td>8.5</td>\n",
       "      <td>6.0</td>\n",
       "      <td>3.4</td>\n",
       "      <td>15.0</td>\n",
       "      <td>0.1</td>\n",
       "      <td>1.0</td>\n",
       "      <td>0.0</td>\n",
       "      <td>3.0</td>\n",
       "      <td>...</td>\n",
       "      <td>0.1</td>\n",
       "      <td>41.0</td>\n",
       "      <td>0.3</td>\n",
       "      <td>25.5</td>\n",
       "      <td>0.3</td>\n",
       "      <td>4.0</td>\n",
       "      <td>0.1</td>\n",
       "      <td>5.0</td>\n",
       "      <td>0.1</td>\n",
       "      <td>19.0</td>\n",
       "    </tr>\n",
       "    <tr>\n",
       "      <th>2</th>\n",
       "      <td>14</td>\n",
       "      <td>2792</td>\n",
       "      <td>18.1</td>\n",
       "      <td>5.0</td>\n",
       "      <td>8.7</td>\n",
       "      <td>24.0</td>\n",
       "      <td>0.1</td>\n",
       "      <td>5.5</td>\n",
       "      <td>0.0</td>\n",
       "      <td>-</td>\n",
       "      <td>...</td>\n",
       "      <td>0.4</td>\n",
       "      <td>4.5</td>\n",
       "      <td>0.9</td>\n",
       "      <td>5.0</td>\n",
       "      <td>0.8</td>\n",
       "      <td>12.0</td>\n",
       "      <td>0.1</td>\n",
       "      <td>24.0</td>\n",
       "      <td>0.2</td>\n",
       "      <td>16.5</td>\n",
       "    </tr>\n",
       "    <tr>\n",
       "      <th>3</th>\n",
       "      <td>15</td>\n",
       "      <td>2956</td>\n",
       "      <td>29.2</td>\n",
       "      <td>6.0</td>\n",
       "      <td>14.5</td>\n",
       "      <td>25.0</td>\n",
       "      <td>0.5</td>\n",
       "      <td>4.0</td>\n",
       "      <td>0.1</td>\n",
       "      <td>9.5</td>\n",
       "      <td>...</td>\n",
       "      <td>0.8</td>\n",
       "      <td>3.0</td>\n",
       "      <td>2.0</td>\n",
       "      <td>4.5</td>\n",
       "      <td>1.5</td>\n",
       "      <td>6.0</td>\n",
       "      <td>0.3</td>\n",
       "      <td>10.5</td>\n",
       "      <td>0.4</td>\n",
       "      <td>30.0</td>\n",
       "    </tr>\n",
       "    <tr>\n",
       "      <th>4</th>\n",
       "      <td>16</td>\n",
       "      <td>3058</td>\n",
       "      <td>40.1</td>\n",
       "      <td>10.0</td>\n",
       "      <td>22.5</td>\n",
       "      <td>30.0</td>\n",
       "      <td>1.0</td>\n",
       "      <td>7.0</td>\n",
       "      <td>0.0</td>\n",
       "      <td>1.0</td>\n",
       "      <td>...</td>\n",
       "      <td>1.1</td>\n",
       "      <td>4.0</td>\n",
       "      <td>2.4</td>\n",
       "      <td>11.0</td>\n",
       "      <td>1.8</td>\n",
       "      <td>9.5</td>\n",
       "      <td>0.3</td>\n",
       "      <td>36.0</td>\n",
       "      <td>0.2</td>\n",
       "      <td>3.0</td>\n",
       "    </tr>\n",
       "  </tbody>\n",
       "</table>\n",
       "<p>5 rows × 28 columns</p>\n",
       "</div>"
      ],
      "text/plain": [
       "  age     n  alcohol-use  alcohol-frequency  marijuana-use  \\\n",
       "0  12  2798          3.9                3.0            1.1   \n",
       "1  13  2757          8.5                6.0            3.4   \n",
       "2  14  2792         18.1                5.0            8.7   \n",
       "3  15  2956         29.2                6.0           14.5   \n",
       "4  16  3058         40.1               10.0           22.5   \n",
       "\n",
       "   marijuana-frequency  cocaine-use cocaine-frequency  crack-use  \\\n",
       "0                  4.0          0.1               5.0        0.0   \n",
       "1                 15.0          0.1               1.0        0.0   \n",
       "2                 24.0          0.1               5.5        0.0   \n",
       "3                 25.0          0.5               4.0        0.1   \n",
       "4                 30.0          1.0               7.0        0.0   \n",
       "\n",
       "  crack-frequency        ...          oxycontin-use oxycontin-frequency  \\\n",
       "0               -        ...                    0.1                24.5   \n",
       "1             3.0        ...                    0.1                41.0   \n",
       "2               -        ...                    0.4                 4.5   \n",
       "3             9.5        ...                    0.8                 3.0   \n",
       "4             1.0        ...                    1.1                 4.0   \n",
       "\n",
       "   tranquilizer-use  tranquilizer-frequency  stimulant-use  \\\n",
       "0               0.2                    52.0            0.2   \n",
       "1               0.3                    25.5            0.3   \n",
       "2               0.9                     5.0            0.8   \n",
       "3               2.0                     4.5            1.5   \n",
       "4               2.4                    11.0            1.8   \n",
       "\n",
       "  stimulant-frequency  meth-use  meth-frequency  sedative-use  \\\n",
       "0                 2.0       0.0               -           0.2   \n",
       "1                 4.0       0.1             5.0           0.1   \n",
       "2                12.0       0.1            24.0           0.2   \n",
       "3                 6.0       0.3            10.5           0.4   \n",
       "4                 9.5       0.3            36.0           0.2   \n",
       "\n",
       "  sedative-frequency  \n",
       "0               13.0  \n",
       "1               19.0  \n",
       "2               16.5  \n",
       "3               30.0  \n",
       "4                3.0  \n",
       "\n",
       "[5 rows x 28 columns]"
      ]
     },
     "execution_count": 120,
     "metadata": {},
     "output_type": "execute_result"
    }
   ],
   "source": [
    "# inspect the \"head\"\n",
    "drug.head()"
   ]
  },
  {
   "cell_type": "markdown",
   "metadata": {
    "nbpresent": {
     "id": "1e6c6b41-692a-43fd-b4e6-81ee125dad7e"
    },
    "slideshow": {
     "slide_type": "slide"
    }
   },
   "source": [
    "If we want to see the last part of our data, we can equivalently use the ```.tail()``` function."
   ]
  },
  {
   "cell_type": "code",
   "execution_count": 121,
   "metadata": {
    "nbpresent": {
     "id": "0077c2a2-48f2-4c30-9181-34d2fc466bc9"
    },
    "slideshow": {
     "slide_type": "-"
    }
   },
   "outputs": [
    {
     "data": {
      "text/html": [
       "<div>\n",
       "<style scoped>\n",
       "    .dataframe tbody tr th:only-of-type {\n",
       "        vertical-align: middle;\n",
       "    }\n",
       "\n",
       "    .dataframe tbody tr th {\n",
       "        vertical-align: top;\n",
       "    }\n",
       "\n",
       "    .dataframe thead th {\n",
       "        text-align: right;\n",
       "    }\n",
       "</style>\n",
       "<table border=\"1\" class=\"dataframe\">\n",
       "  <thead>\n",
       "    <tr style=\"text-align: right;\">\n",
       "      <th></th>\n",
       "      <th>age</th>\n",
       "      <th>n</th>\n",
       "      <th>alcohol-use</th>\n",
       "      <th>alcohol-frequency</th>\n",
       "      <th>marijuana-use</th>\n",
       "      <th>marijuana-frequency</th>\n",
       "      <th>cocaine-use</th>\n",
       "      <th>cocaine-frequency</th>\n",
       "      <th>crack-use</th>\n",
       "      <th>crack-frequency</th>\n",
       "      <th>...</th>\n",
       "      <th>oxycontin-use</th>\n",
       "      <th>oxycontin-frequency</th>\n",
       "      <th>tranquilizer-use</th>\n",
       "      <th>tranquilizer-frequency</th>\n",
       "      <th>stimulant-use</th>\n",
       "      <th>stimulant-frequency</th>\n",
       "      <th>meth-use</th>\n",
       "      <th>meth-frequency</th>\n",
       "      <th>sedative-use</th>\n",
       "      <th>sedative-frequency</th>\n",
       "    </tr>\n",
       "  </thead>\n",
       "  <tbody>\n",
       "    <tr>\n",
       "      <th>12</th>\n",
       "      <td>26-29</td>\n",
       "      <td>2628</td>\n",
       "      <td>80.7</td>\n",
       "      <td>52.0</td>\n",
       "      <td>20.8</td>\n",
       "      <td>52.0</td>\n",
       "      <td>3.2</td>\n",
       "      <td>5.0</td>\n",
       "      <td>0.4</td>\n",
       "      <td>6.0</td>\n",
       "      <td>...</td>\n",
       "      <td>1.2</td>\n",
       "      <td>13.5</td>\n",
       "      <td>4.2</td>\n",
       "      <td>10.0</td>\n",
       "      <td>2.3</td>\n",
       "      <td>7.0</td>\n",
       "      <td>0.6</td>\n",
       "      <td>30.0</td>\n",
       "      <td>0.4</td>\n",
       "      <td>4.0</td>\n",
       "    </tr>\n",
       "    <tr>\n",
       "      <th>13</th>\n",
       "      <td>30-34</td>\n",
       "      <td>2864</td>\n",
       "      <td>77.5</td>\n",
       "      <td>52.0</td>\n",
       "      <td>16.4</td>\n",
       "      <td>72.0</td>\n",
       "      <td>2.1</td>\n",
       "      <td>8.0</td>\n",
       "      <td>0.5</td>\n",
       "      <td>15.0</td>\n",
       "      <td>...</td>\n",
       "      <td>0.9</td>\n",
       "      <td>46.0</td>\n",
       "      <td>3.6</td>\n",
       "      <td>8.0</td>\n",
       "      <td>1.4</td>\n",
       "      <td>12.0</td>\n",
       "      <td>0.4</td>\n",
       "      <td>54.0</td>\n",
       "      <td>0.4</td>\n",
       "      <td>10.0</td>\n",
       "    </tr>\n",
       "    <tr>\n",
       "      <th>14</th>\n",
       "      <td>35-49</td>\n",
       "      <td>7391</td>\n",
       "      <td>75.0</td>\n",
       "      <td>52.0</td>\n",
       "      <td>10.4</td>\n",
       "      <td>48.0</td>\n",
       "      <td>1.5</td>\n",
       "      <td>15.0</td>\n",
       "      <td>0.5</td>\n",
       "      <td>48.0</td>\n",
       "      <td>...</td>\n",
       "      <td>0.3</td>\n",
       "      <td>12.0</td>\n",
       "      <td>1.9</td>\n",
       "      <td>6.0</td>\n",
       "      <td>0.6</td>\n",
       "      <td>24.0</td>\n",
       "      <td>0.2</td>\n",
       "      <td>104.0</td>\n",
       "      <td>0.3</td>\n",
       "      <td>10.0</td>\n",
       "    </tr>\n",
       "    <tr>\n",
       "      <th>15</th>\n",
       "      <td>50-64</td>\n",
       "      <td>3923</td>\n",
       "      <td>67.2</td>\n",
       "      <td>52.0</td>\n",
       "      <td>7.3</td>\n",
       "      <td>52.0</td>\n",
       "      <td>0.9</td>\n",
       "      <td>36.0</td>\n",
       "      <td>0.4</td>\n",
       "      <td>62.0</td>\n",
       "      <td>...</td>\n",
       "      <td>0.4</td>\n",
       "      <td>5.0</td>\n",
       "      <td>1.4</td>\n",
       "      <td>10.0</td>\n",
       "      <td>0.3</td>\n",
       "      <td>24.0</td>\n",
       "      <td>0.2</td>\n",
       "      <td>30.0</td>\n",
       "      <td>0.2</td>\n",
       "      <td>104.0</td>\n",
       "    </tr>\n",
       "    <tr>\n",
       "      <th>16</th>\n",
       "      <td>65+</td>\n",
       "      <td>2448</td>\n",
       "      <td>49.3</td>\n",
       "      <td>52.0</td>\n",
       "      <td>1.2</td>\n",
       "      <td>36.0</td>\n",
       "      <td>0.0</td>\n",
       "      <td>-</td>\n",
       "      <td>0.0</td>\n",
       "      <td>-</td>\n",
       "      <td>...</td>\n",
       "      <td>0.0</td>\n",
       "      <td>-</td>\n",
       "      <td>0.2</td>\n",
       "      <td>5.0</td>\n",
       "      <td>0.0</td>\n",
       "      <td>364.0</td>\n",
       "      <td>0.0</td>\n",
       "      <td>-</td>\n",
       "      <td>0.0</td>\n",
       "      <td>15.0</td>\n",
       "    </tr>\n",
       "  </tbody>\n",
       "</table>\n",
       "<p>5 rows × 28 columns</p>\n",
       "</div>"
      ],
      "text/plain": [
       "      age     n  alcohol-use  alcohol-frequency  marijuana-use  \\\n",
       "12  26-29  2628         80.7               52.0           20.8   \n",
       "13  30-34  2864         77.5               52.0           16.4   \n",
       "14  35-49  7391         75.0               52.0           10.4   \n",
       "15  50-64  3923         67.2               52.0            7.3   \n",
       "16    65+  2448         49.3               52.0            1.2   \n",
       "\n",
       "    marijuana-frequency  cocaine-use cocaine-frequency  crack-use  \\\n",
       "12                 52.0          3.2               5.0        0.4   \n",
       "13                 72.0          2.1               8.0        0.5   \n",
       "14                 48.0          1.5              15.0        0.5   \n",
       "15                 52.0          0.9              36.0        0.4   \n",
       "16                 36.0          0.0                 -        0.0   \n",
       "\n",
       "   crack-frequency        ...          oxycontin-use oxycontin-frequency  \\\n",
       "12             6.0        ...                    1.2                13.5   \n",
       "13            15.0        ...                    0.9                46.0   \n",
       "14            48.0        ...                    0.3                12.0   \n",
       "15            62.0        ...                    0.4                 5.0   \n",
       "16               -        ...                    0.0                   -   \n",
       "\n",
       "    tranquilizer-use  tranquilizer-frequency  stimulant-use  \\\n",
       "12               4.2                    10.0            2.3   \n",
       "13               3.6                     8.0            1.4   \n",
       "14               1.9                     6.0            0.6   \n",
       "15               1.4                    10.0            0.3   \n",
       "16               0.2                     5.0            0.0   \n",
       "\n",
       "   stimulant-frequency  meth-use  meth-frequency  sedative-use  \\\n",
       "12                 7.0       0.6            30.0           0.4   \n",
       "13                12.0       0.4            54.0           0.4   \n",
       "14                24.0       0.2           104.0           0.3   \n",
       "15                24.0       0.2            30.0           0.2   \n",
       "16               364.0       0.0               -           0.0   \n",
       "\n",
       "   sedative-frequency  \n",
       "12                4.0  \n",
       "13               10.0  \n",
       "14               10.0  \n",
       "15              104.0  \n",
       "16               15.0  \n",
       "\n",
       "[5 rows x 28 columns]"
      ]
     },
     "execution_count": 121,
     "metadata": {},
     "output_type": "execute_result"
    }
   ],
   "source": [
    "# inspect the \"tail\"\n",
    "drug.tail()"
   ]
  },
  {
   "cell_type": "markdown",
   "metadata": {
    "nbpresent": {
     "id": "2c901f72-6d15-4e6b-9592-de89ff0b4dfa"
    },
    "slideshow": {
     "slide_type": "slide"
    }
   },
   "source": [
    "<a id='data_dimensions'></a>\n",
    "\n",
    "### Data dimensions\n",
    "\n",
    "---\n",
    "\n",
    "It's good to look at what the dimensions of your data are. The ```.shape``` property will tell you the rows and colum counts of your DataFrame.\n",
    "\n",
    "> _Protip on dimensions_\n",
    ">\n",
    "> _The scale of a data problem can be determined by the dimensions of a dataset and inspecting how much space it occupies in memory (we will look at this later)._"
   ]
  },
  {
   "cell_type": "code",
   "execution_count": 122,
   "metadata": {
    "nbpresent": {
     "id": "9a9b6f73-3b89-41e7-99eb-14e7afa83467"
    },
    "slideshow": {
     "slide_type": "-"
    }
   },
   "outputs": [
    {
     "data": {
      "text/plain": [
       "(17, 28)"
      ]
     },
     "execution_count": 122,
     "metadata": {},
     "output_type": "execute_result"
    }
   ],
   "source": [
    "# inspect \"shape\"\n",
    "drug.shape"
   ]
  },
  {
   "cell_type": "code",
   "execution_count": 124,
   "metadata": {},
   "outputs": [],
   "source": [
    "# drug"
   ]
  },
  {
   "cell_type": "markdown",
   "metadata": {
    "nbpresent": {
     "id": "042513d6-a8a3-4ec3-aaf3-e6acb8854820"
    },
    "slideshow": {
     "slide_type": "fragment"
    }
   },
   "source": [
    "You can see we have 17 rows and 28 columns. This is obviously a small dataset.\n",
    "\n",
    "You will notice that this is operates the same as `.shape` for numpy arrays/matricies. Pandas makes use of numpy under the hood for optimization and speed."
   ]
  },
  {
   "cell_type": "markdown",
   "metadata": {
    "nbpresent": {
     "id": "31d5c9db-bf27-4798-ae2d-081e17102bbb"
    },
    "slideshow": {
     "slide_type": "slide"
    }
   },
   "source": [
    "Look at the names of your columns with the ```.columns``` property.\n",
    "\n",
    "[Note: You will see the columns having the **u'string'** and can most of the time safely ignore this as the column names are typically loaded in as ascii and not unicode]"
   ]
  },
  {
   "cell_type": "code",
   "execution_count": 125,
   "metadata": {},
   "outputs": [
    {
     "data": {
      "text/html": [
       "<div>\n",
       "<style scoped>\n",
       "    .dataframe tbody tr th:only-of-type {\n",
       "        vertical-align: middle;\n",
       "    }\n",
       "\n",
       "    .dataframe tbody tr th {\n",
       "        vertical-align: top;\n",
       "    }\n",
       "\n",
       "    .dataframe thead th {\n",
       "        text-align: right;\n",
       "    }\n",
       "</style>\n",
       "<table border=\"1\" class=\"dataframe\">\n",
       "  <thead>\n",
       "    <tr style=\"text-align: right;\">\n",
       "      <th></th>\n",
       "      <th>age</th>\n",
       "      <th>n</th>\n",
       "      <th>alcohol-use</th>\n",
       "      <th>alcohol-frequency</th>\n",
       "      <th>marijuana-use</th>\n",
       "      <th>marijuana-frequency</th>\n",
       "      <th>cocaine-use</th>\n",
       "      <th>cocaine-frequency</th>\n",
       "      <th>crack-use</th>\n",
       "      <th>crack-frequency</th>\n",
       "      <th>...</th>\n",
       "      <th>oxycontin-use</th>\n",
       "      <th>oxycontin-frequency</th>\n",
       "      <th>tranquilizer-use</th>\n",
       "      <th>tranquilizer-frequency</th>\n",
       "      <th>stimulant-use</th>\n",
       "      <th>stimulant-frequency</th>\n",
       "      <th>meth-use</th>\n",
       "      <th>meth-frequency</th>\n",
       "      <th>sedative-use</th>\n",
       "      <th>sedative-frequency</th>\n",
       "    </tr>\n",
       "  </thead>\n",
       "  <tbody>\n",
       "    <tr>\n",
       "      <th>0</th>\n",
       "      <td>12</td>\n",
       "      <td>2798</td>\n",
       "      <td>3.9</td>\n",
       "      <td>3.0</td>\n",
       "      <td>1.1</td>\n",
       "      <td>4.0</td>\n",
       "      <td>0.1</td>\n",
       "      <td>5.0</td>\n",
       "      <td>0.0</td>\n",
       "      <td>-</td>\n",
       "      <td>...</td>\n",
       "      <td>0.1</td>\n",
       "      <td>24.5</td>\n",
       "      <td>0.2</td>\n",
       "      <td>52.0</td>\n",
       "      <td>0.2</td>\n",
       "      <td>2.0</td>\n",
       "      <td>0.0</td>\n",
       "      <td>-</td>\n",
       "      <td>0.2</td>\n",
       "      <td>13.0</td>\n",
       "    </tr>\n",
       "    <tr>\n",
       "      <th>1</th>\n",
       "      <td>13</td>\n",
       "      <td>2757</td>\n",
       "      <td>8.5</td>\n",
       "      <td>6.0</td>\n",
       "      <td>3.4</td>\n",
       "      <td>15.0</td>\n",
       "      <td>0.1</td>\n",
       "      <td>1.0</td>\n",
       "      <td>0.0</td>\n",
       "      <td>3.0</td>\n",
       "      <td>...</td>\n",
       "      <td>0.1</td>\n",
       "      <td>41.0</td>\n",
       "      <td>0.3</td>\n",
       "      <td>25.5</td>\n",
       "      <td>0.3</td>\n",
       "      <td>4.0</td>\n",
       "      <td>0.1</td>\n",
       "      <td>5.0</td>\n",
       "      <td>0.1</td>\n",
       "      <td>19.0</td>\n",
       "    </tr>\n",
       "    <tr>\n",
       "      <th>2</th>\n",
       "      <td>14</td>\n",
       "      <td>2792</td>\n",
       "      <td>18.1</td>\n",
       "      <td>5.0</td>\n",
       "      <td>8.7</td>\n",
       "      <td>24.0</td>\n",
       "      <td>0.1</td>\n",
       "      <td>5.5</td>\n",
       "      <td>0.0</td>\n",
       "      <td>-</td>\n",
       "      <td>...</td>\n",
       "      <td>0.4</td>\n",
       "      <td>4.5</td>\n",
       "      <td>0.9</td>\n",
       "      <td>5.0</td>\n",
       "      <td>0.8</td>\n",
       "      <td>12.0</td>\n",
       "      <td>0.1</td>\n",
       "      <td>24.0</td>\n",
       "      <td>0.2</td>\n",
       "      <td>16.5</td>\n",
       "    </tr>\n",
       "    <tr>\n",
       "      <th>3</th>\n",
       "      <td>15</td>\n",
       "      <td>2956</td>\n",
       "      <td>29.2</td>\n",
       "      <td>6.0</td>\n",
       "      <td>14.5</td>\n",
       "      <td>25.0</td>\n",
       "      <td>0.5</td>\n",
       "      <td>4.0</td>\n",
       "      <td>0.1</td>\n",
       "      <td>9.5</td>\n",
       "      <td>...</td>\n",
       "      <td>0.8</td>\n",
       "      <td>3.0</td>\n",
       "      <td>2.0</td>\n",
       "      <td>4.5</td>\n",
       "      <td>1.5</td>\n",
       "      <td>6.0</td>\n",
       "      <td>0.3</td>\n",
       "      <td>10.5</td>\n",
       "      <td>0.4</td>\n",
       "      <td>30.0</td>\n",
       "    </tr>\n",
       "    <tr>\n",
       "      <th>4</th>\n",
       "      <td>16</td>\n",
       "      <td>3058</td>\n",
       "      <td>40.1</td>\n",
       "      <td>10.0</td>\n",
       "      <td>22.5</td>\n",
       "      <td>30.0</td>\n",
       "      <td>1.0</td>\n",
       "      <td>7.0</td>\n",
       "      <td>0.0</td>\n",
       "      <td>1.0</td>\n",
       "      <td>...</td>\n",
       "      <td>1.1</td>\n",
       "      <td>4.0</td>\n",
       "      <td>2.4</td>\n",
       "      <td>11.0</td>\n",
       "      <td>1.8</td>\n",
       "      <td>9.5</td>\n",
       "      <td>0.3</td>\n",
       "      <td>36.0</td>\n",
       "      <td>0.2</td>\n",
       "      <td>3.0</td>\n",
       "    </tr>\n",
       "  </tbody>\n",
       "</table>\n",
       "<p>5 rows × 28 columns</p>\n",
       "</div>"
      ],
      "text/plain": [
       "  age     n  alcohol-use  alcohol-frequency  marijuana-use  \\\n",
       "0  12  2798          3.9                3.0            1.1   \n",
       "1  13  2757          8.5                6.0            3.4   \n",
       "2  14  2792         18.1                5.0            8.7   \n",
       "3  15  2956         29.2                6.0           14.5   \n",
       "4  16  3058         40.1               10.0           22.5   \n",
       "\n",
       "   marijuana-frequency  cocaine-use cocaine-frequency  crack-use  \\\n",
       "0                  4.0          0.1               5.0        0.0   \n",
       "1                 15.0          0.1               1.0        0.0   \n",
       "2                 24.0          0.1               5.5        0.0   \n",
       "3                 25.0          0.5               4.0        0.1   \n",
       "4                 30.0          1.0               7.0        0.0   \n",
       "\n",
       "  crack-frequency        ...          oxycontin-use oxycontin-frequency  \\\n",
       "0               -        ...                    0.1                24.5   \n",
       "1             3.0        ...                    0.1                41.0   \n",
       "2               -        ...                    0.4                 4.5   \n",
       "3             9.5        ...                    0.8                 3.0   \n",
       "4             1.0        ...                    1.1                 4.0   \n",
       "\n",
       "   tranquilizer-use  tranquilizer-frequency  stimulant-use  \\\n",
       "0               0.2                    52.0            0.2   \n",
       "1               0.3                    25.5            0.3   \n",
       "2               0.9                     5.0            0.8   \n",
       "3               2.0                     4.5            1.5   \n",
       "4               2.4                    11.0            1.8   \n",
       "\n",
       "  stimulant-frequency  meth-use  meth-frequency  sedative-use  \\\n",
       "0                 2.0       0.0               -           0.2   \n",
       "1                 4.0       0.1             5.0           0.1   \n",
       "2                12.0       0.1            24.0           0.2   \n",
       "3                 6.0       0.3            10.5           0.4   \n",
       "4                 9.5       0.3            36.0           0.2   \n",
       "\n",
       "  sedative-frequency  \n",
       "0               13.0  \n",
       "1               19.0  \n",
       "2               16.5  \n",
       "3               30.0  \n",
       "4                3.0  \n",
       "\n",
       "[5 rows x 28 columns]"
      ]
     },
     "execution_count": 125,
     "metadata": {},
     "output_type": "execute_result"
    }
   ],
   "source": [
    "drug.head()"
   ]
  },
  {
   "cell_type": "code",
   "execution_count": 131,
   "metadata": {},
   "outputs": [
    {
     "name": "stdout",
     "output_type": "stream",
     "text": [
      "['Greg', 'James', 'Christopher', 'œï']\n"
     ]
    }
   ],
   "source": [
    "[u\"Greg\", u\"James\", u\"Christopher\", u\"œï\"]"
   ]
  },
  {
   "cell_type": "code",
   "execution_count": 126,
   "metadata": {
    "nbpresent": {
     "id": "b2da21bb-5a29-441d-a0b7-949ecf9938c8"
    },
    "slideshow": {
     "slide_type": "fragment"
    }
   },
   "outputs": [
    {
     "data": {
      "text/plain": [
       "Index(['age', 'n', 'alcohol-use', 'alcohol-frequency', 'marijuana-use',\n",
       "       'marijuana-frequency', 'cocaine-use', 'cocaine-frequency', 'crack-use',\n",
       "       'crack-frequency', 'heroin-use', 'heroin-frequency', 'hallucinogen-use',\n",
       "       'hallucinogen-frequency', 'inhalant-use', 'inhalant-frequency',\n",
       "       'pain-releiver-use', 'pain-releiver-frequency', 'oxycontin-use',\n",
       "       'oxycontin-frequency', 'tranquilizer-use', 'tranquilizer-frequency',\n",
       "       'stimulant-use', 'stimulant-frequency', 'meth-use', 'meth-frequency',\n",
       "       'sedative-use', 'sedative-frequency'],\n",
       "      dtype='object')"
      ]
     },
     "execution_count": 126,
     "metadata": {},
     "output_type": "execute_result"
    }
   ],
   "source": [
    "# Inspect columns\n",
    "drug.columns"
   ]
  },
  {
   "cell_type": "markdown",
   "metadata": {
    "nbpresent": {
     "id": "fc25fdf8-5959-4d0e-ab9d-ab6da5c83209"
    },
    "slideshow": {
     "slide_type": "slide"
    }
   },
   "source": [
    "Accessing a specific column is easy. You can use the bracket syntax just like python dictionaries with the string name of the column to extract that column."
   ]
  },
  {
   "cell_type": "code",
   "execution_count": 135,
   "metadata": {},
   "outputs": [
    {
     "data": {
      "text/plain": [
       "0    0.0\n",
       "1    0.0\n",
       "2    0.0\n",
       "3    0.1\n",
       "4    0.0\n",
       "Name: crack-use, dtype: float64"
      ]
     },
     "execution_count": 135,
     "metadata": {},
     "output_type": "execute_result"
    }
   ],
   "source": [
    "# drug.head()\n",
    "drug['crack-use'].head()"
   ]
  },
  {
   "cell_type": "code",
   "execution_count": 136,
   "metadata": {
    "nbpresent": {
     "id": "c1d9b4d1-263d-4ca1-acf6-d18ad31c16e6"
    },
    "slideshow": {
     "slide_type": "fragment"
    }
   },
   "outputs": [
    {
     "data": {
      "text/plain": [
       "0    0.0\n",
       "1    0.0\n",
       "2    0.0\n",
       "3    0.1\n",
       "4    0.0\n",
       "Name: crack-use, dtype: float64"
      ]
     },
     "execution_count": 136,
     "metadata": {},
     "output_type": "execute_result"
    }
   ],
   "source": [
    "# Insepct head of a series called \"crack-use\"\n",
    "drug['crack-use'].head()"
   ]
  },
  {
   "cell_type": "markdown",
   "metadata": {
    "nbpresent": {
     "id": "d1473cb4-9805-4831-aca8-71c68c271729"
    },
    "slideshow": {
     "slide_type": "fragment"
    }
   },
   "source": [
    "As you can see we can also use the ```.head()``` function on a single column, which is represented as a pandas Series object."
   ]
  },
  {
   "cell_type": "code",
   "execution_count": 137,
   "metadata": {},
   "outputs": [
    {
     "data": {
      "text/plain": [
       "0     3.0\n",
       "1     6.0\n",
       "2     5.0\n",
       "3     6.0\n",
       "4    10.0\n",
       "Name: alcohol-frequency, dtype: float64"
      ]
     },
     "execution_count": 137,
     "metadata": {},
     "output_type": "execute_result"
    }
   ],
   "source": [
    "#\n",
    "drug['alcohol-frequency'].head()"
   ]
  },
  {
   "cell_type": "markdown",
   "metadata": {
    "nbpresent": {
     "id": "e5d6b43d-4118-465d-bea3-83a2caf96b8e"
    },
    "slideshow": {
     "slide_type": "slide"
    }
   },
   "source": [
    "You can also access a column (as a DataFrame instead of a Series) or multiple columns with a list of strings."
   ]
  },
  {
   "cell_type": "code",
   "execution_count": 141,
   "metadata": {
    "nbpresent": {
     "id": "4c713e8f-a430-4d4a-afe4-90f13bde08c2"
    },
    "slideshow": {
     "slide_type": "fragment"
    }
   },
   "outputs": [
    {
     "data": {
      "text/html": [
       "<div>\n",
       "<style scoped>\n",
       "    .dataframe tbody tr th:only-of-type {\n",
       "        vertical-align: middle;\n",
       "    }\n",
       "\n",
       "    .dataframe tbody tr th {\n",
       "        vertical-align: top;\n",
       "    }\n",
       "\n",
       "    .dataframe thead th {\n",
       "        text-align: right;\n",
       "    }\n",
       "</style>\n",
       "<table border=\"1\" class=\"dataframe\">\n",
       "  <thead>\n",
       "    <tr style=\"text-align: right;\">\n",
       "      <th></th>\n",
       "      <th>crack-use</th>\n",
       "    </tr>\n",
       "  </thead>\n",
       "  <tbody>\n",
       "    <tr>\n",
       "      <th>0</th>\n",
       "      <td>0.0</td>\n",
       "    </tr>\n",
       "    <tr>\n",
       "      <th>1</th>\n",
       "      <td>0.0</td>\n",
       "    </tr>\n",
       "    <tr>\n",
       "      <th>2</th>\n",
       "      <td>0.0</td>\n",
       "    </tr>\n",
       "    <tr>\n",
       "      <th>3</th>\n",
       "      <td>0.1</td>\n",
       "    </tr>\n",
       "    <tr>\n",
       "      <th>4</th>\n",
       "      <td>0.0</td>\n",
       "    </tr>\n",
       "  </tbody>\n",
       "</table>\n",
       "</div>"
      ],
      "text/plain": [
       "   crack-use\n",
       "0        0.0\n",
       "1        0.0\n",
       "2        0.0\n",
       "3        0.1\n",
       "4        0.0"
      ]
     },
     "execution_count": 141,
     "metadata": {},
     "output_type": "execute_result"
    }
   ],
   "source": [
    "# Inspect feature (aka: column) called \"crack-use\"\n",
    "drug[['crack-use']].head()"
   ]
  },
  {
   "cell_type": "code",
   "execution_count": 144,
   "metadata": {
    "nbpresent": {
     "id": "46dc97d4-6326-417d-8745-64c49ef65ec2"
    },
    "slideshow": {
     "slide_type": "fragment"
    }
   },
   "outputs": [
    {
     "data": {
      "text/html": [
       "<div>\n",
       "<style scoped>\n",
       "    .dataframe tbody tr th:only-of-type {\n",
       "        vertical-align: middle;\n",
       "    }\n",
       "\n",
       "    .dataframe tbody tr th {\n",
       "        vertical-align: top;\n",
       "    }\n",
       "\n",
       "    .dataframe thead th {\n",
       "        text-align: right;\n",
       "    }\n",
       "</style>\n",
       "<table border=\"1\" class=\"dataframe\">\n",
       "  <thead>\n",
       "    <tr style=\"text-align: right;\">\n",
       "      <th></th>\n",
       "      <th>age</th>\n",
       "      <th>crack-use</th>\n",
       "    </tr>\n",
       "  </thead>\n",
       "  <tbody>\n",
       "    <tr>\n",
       "      <th>0</th>\n",
       "      <td>12</td>\n",
       "      <td>0.0</td>\n",
       "    </tr>\n",
       "    <tr>\n",
       "      <th>1</th>\n",
       "      <td>13</td>\n",
       "      <td>0.0</td>\n",
       "    </tr>\n",
       "    <tr>\n",
       "      <th>2</th>\n",
       "      <td>14</td>\n",
       "      <td>0.0</td>\n",
       "    </tr>\n",
       "    <tr>\n",
       "      <th>3</th>\n",
       "      <td>15</td>\n",
       "      <td>0.1</td>\n",
       "    </tr>\n",
       "    <tr>\n",
       "      <th>4</th>\n",
       "      <td>16</td>\n",
       "      <td>0.0</td>\n",
       "    </tr>\n",
       "  </tbody>\n",
       "</table>\n",
       "</div>"
      ],
      "text/plain": [
       "  age  crack-use\n",
       "0  12        0.0\n",
       "1  13        0.0\n",
       "2  14        0.0\n",
       "3  15        0.1\n",
       "4  16        0.0"
      ]
     },
     "execution_count": 144,
     "metadata": {},
     "output_type": "execute_result"
    }
   ],
   "source": [
    "# Inspect features \"age\", \"crack-use\" with head\n",
    "drug[['age', 'crack-use']].head()"
   ]
  },
  {
   "cell_type": "code",
   "execution_count": 145,
   "metadata": {},
   "outputs": [
    {
     "data": {
      "text/plain": [
       "52.0    8\n",
       "6.0     2\n",
       "48.0    1\n",
       "36.0    1\n",
       "24.0    1\n",
       "13.0    1\n",
       "10.0    1\n",
       "5.0     1\n",
       "3.0     1\n",
       "Name: alcohol-frequency, dtype: int64"
      ]
     },
     "execution_count": 145,
     "metadata": {},
     "output_type": "execute_result"
    }
   ],
   "source": [
    "# Inspect unique values of \"age\"\n",
    "drug['alcohol-frequency'].value_counts()"
   ]
  },
  {
   "cell_type": "code",
   "execution_count": 149,
   "metadata": {},
   "outputs": [
    {
     "data": {
      "text/html": [
       "<div>\n",
       "<style scoped>\n",
       "    .dataframe tbody tr th:only-of-type {\n",
       "        vertical-align: middle;\n",
       "    }\n",
       "\n",
       "    .dataframe tbody tr th {\n",
       "        vertical-align: top;\n",
       "    }\n",
       "\n",
       "    .dataframe thead th {\n",
       "        text-align: right;\n",
       "    }\n",
       "</style>\n",
       "<table border=\"1\" class=\"dataframe\">\n",
       "  <thead>\n",
       "    <tr style=\"text-align: right;\">\n",
       "      <th></th>\n",
       "      <th>alcohol-frequency</th>\n",
       "      <th>age</th>\n",
       "      <th>n</th>\n",
       "      <th>crack-use</th>\n",
       "    </tr>\n",
       "  </thead>\n",
       "  <tbody>\n",
       "    <tr>\n",
       "      <th>0</th>\n",
       "      <td>3.0</td>\n",
       "      <td>12</td>\n",
       "      <td>2798</td>\n",
       "      <td>0.0</td>\n",
       "    </tr>\n",
       "    <tr>\n",
       "      <th>1</th>\n",
       "      <td>6.0</td>\n",
       "      <td>13</td>\n",
       "      <td>2757</td>\n",
       "      <td>0.0</td>\n",
       "    </tr>\n",
       "    <tr>\n",
       "      <th>2</th>\n",
       "      <td>5.0</td>\n",
       "      <td>14</td>\n",
       "      <td>2792</td>\n",
       "      <td>0.0</td>\n",
       "    </tr>\n",
       "    <tr>\n",
       "      <th>3</th>\n",
       "      <td>6.0</td>\n",
       "      <td>15</td>\n",
       "      <td>2956</td>\n",
       "      <td>0.1</td>\n",
       "    </tr>\n",
       "    <tr>\n",
       "      <th>4</th>\n",
       "      <td>10.0</td>\n",
       "      <td>16</td>\n",
       "      <td>3058</td>\n",
       "      <td>0.0</td>\n",
       "    </tr>\n",
       "    <tr>\n",
       "      <th>5</th>\n",
       "      <td>13.0</td>\n",
       "      <td>17</td>\n",
       "      <td>3038</td>\n",
       "      <td>0.1</td>\n",
       "    </tr>\n",
       "    <tr>\n",
       "      <th>6</th>\n",
       "      <td>24.0</td>\n",
       "      <td>18</td>\n",
       "      <td>2469</td>\n",
       "      <td>0.4</td>\n",
       "    </tr>\n",
       "    <tr>\n",
       "      <th>7</th>\n",
       "      <td>36.0</td>\n",
       "      <td>19</td>\n",
       "      <td>2223</td>\n",
       "      <td>0.5</td>\n",
       "    </tr>\n",
       "    <tr>\n",
       "      <th>8</th>\n",
       "      <td>48.0</td>\n",
       "      <td>20</td>\n",
       "      <td>2271</td>\n",
       "      <td>0.6</td>\n",
       "    </tr>\n",
       "    <tr>\n",
       "      <th>9</th>\n",
       "      <td>52.0</td>\n",
       "      <td>21</td>\n",
       "      <td>2354</td>\n",
       "      <td>0.5</td>\n",
       "    </tr>\n",
       "    <tr>\n",
       "      <th>10</th>\n",
       "      <td>52.0</td>\n",
       "      <td>22-23</td>\n",
       "      <td>4707</td>\n",
       "      <td>0.5</td>\n",
       "    </tr>\n",
       "    <tr>\n",
       "      <th>11</th>\n",
       "      <td>52.0</td>\n",
       "      <td>24-25</td>\n",
       "      <td>4591</td>\n",
       "      <td>0.5</td>\n",
       "    </tr>\n",
       "    <tr>\n",
       "      <th>12</th>\n",
       "      <td>52.0</td>\n",
       "      <td>26-29</td>\n",
       "      <td>2628</td>\n",
       "      <td>0.4</td>\n",
       "    </tr>\n",
       "    <tr>\n",
       "      <th>13</th>\n",
       "      <td>52.0</td>\n",
       "      <td>30-34</td>\n",
       "      <td>2864</td>\n",
       "      <td>0.5</td>\n",
       "    </tr>\n",
       "    <tr>\n",
       "      <th>14</th>\n",
       "      <td>52.0</td>\n",
       "      <td>35-49</td>\n",
       "      <td>7391</td>\n",
       "      <td>0.5</td>\n",
       "    </tr>\n",
       "    <tr>\n",
       "      <th>15</th>\n",
       "      <td>52.0</td>\n",
       "      <td>50-64</td>\n",
       "      <td>3923</td>\n",
       "      <td>0.4</td>\n",
       "    </tr>\n",
       "    <tr>\n",
       "      <th>16</th>\n",
       "      <td>52.0</td>\n",
       "      <td>65+</td>\n",
       "      <td>2448</td>\n",
       "      <td>0.0</td>\n",
       "    </tr>\n",
       "  </tbody>\n",
       "</table>\n",
       "</div>"
      ],
      "text/plain": [
       "    alcohol-frequency    age     n  crack-use\n",
       "0                 3.0     12  2798        0.0\n",
       "1                 6.0     13  2757        0.0\n",
       "2                 5.0     14  2792        0.0\n",
       "3                 6.0     15  2956        0.1\n",
       "4                10.0     16  3058        0.0\n",
       "5                13.0     17  3038        0.1\n",
       "6                24.0     18  2469        0.4\n",
       "7                36.0     19  2223        0.5\n",
       "8                48.0     20  2271        0.6\n",
       "9                52.0     21  2354        0.5\n",
       "10               52.0  22-23  4707        0.5\n",
       "11               52.0  24-25  4591        0.5\n",
       "12               52.0  26-29  2628        0.4\n",
       "13               52.0  30-34  2864        0.5\n",
       "14               52.0  35-49  7391        0.5\n",
       "15               52.0  50-64  3923        0.4\n",
       "16               52.0    65+  2448        0.0"
      ]
     },
     "execution_count": 149,
     "metadata": {},
     "output_type": "execute_result"
    }
   ],
   "source": [
    "columns = ['alcohol-frequency', 'age', 'n', 'crack-use']\n",
    "drug[columns]"
   ]
  },
  {
   "cell_type": "code",
   "execution_count": 150,
   "metadata": {},
   "outputs": [
    {
     "data": {
      "text/plain": [
       "RangeIndex(start=0, stop=17, step=1)"
      ]
     },
     "execution_count": 150,
     "metadata": {},
     "output_type": "execute_result"
    }
   ],
   "source": [
    "# index\n",
    "drug.index"
   ]
  },
  {
   "cell_type": "markdown",
   "metadata": {
    "nbpresent": {
     "id": "0c73f9d4-b242-441c-b606-40c05b450f25"
    },
    "slideshow": {
     "slide_type": "slide"
    }
   },
   "source": [
    "<a id='dataframe_series'></a>\n",
    "\n",
    "### DataFrame vs. Series\n",
    "\n",
    "---\n",
    "\n",
    "There is an important difference between using a list of strings and just a string with a column's name: when you use a list with the string it returns another **DataFrame**, but when you use just the string it returns a pandas **Series** object."
   ]
  },
  {
   "cell_type": "code",
   "execution_count": 101,
   "metadata": {},
   "outputs": [],
   "source": [
    "# Lets check this out, series vs DataFrame"
   ]
  },
  {
   "cell_type": "code",
   "execution_count": 151,
   "metadata": {
    "nbpresent": {
     "id": "a8526589-1116-4c85-be23-5cba34430f32"
    },
    "slideshow": {
     "slide_type": "fragment"
    }
   },
   "outputs": [
    {
     "name": "stdout",
     "output_type": "stream",
     "text": [
      "<class 'pandas.core.series.Series'>\n",
      "<class 'pandas.core.frame.DataFrame'>\n"
     ]
    }
   ],
   "source": [
    "print(type(drug['age']))\n",
    "\n",
    "print(type(drug[['age']]))"
   ]
  },
  {
   "cell_type": "markdown",
   "metadata": {
    "nbpresent": {
     "id": "9aee722a-59c8-4c66-ba6e-58c629b5740b"
    },
    "slideshow": {
     "slide_type": "fragment"
    }
   },
   "source": [
    "What is the difference between a pandas Series and DataFrame object?\n",
    "\n",
    "Essentially, a **Series** object contains the data for a single column of your data, and the **DataFrame** is a matrix-like container for those Series objects that comprise your data."
   ]
  },
  {
   "cell_type": "markdown",
   "metadata": {
    "nbpresent": {
     "id": "892f7841-512b-4f7b-b741-5b2c094a31d2"
    },
    "slideshow": {
     "slide_type": "slide"
    }
   },
   "source": [
    "As long as your column names have no spaces or other specialized characters in them (underscores are ok), you can access a column as a property of the dataframe.  \n",
    "\n",
    "**Get in the habit of referencing your series columns using df['my_column'] rather than by object notation `df.my_column`**.  Because, there are many edge cases where the object notation does not work and there are nuances as to how Pandas will behave, **`df.my_column`** vs **`df['my_column']`**.\n",
    "\n",
    "> When in doubt, use the method that behaves most consistently for accessing columns as you learn to use DataFrames."
   ]
  },
  {
   "cell_type": "code",
   "execution_count": 158,
   "metadata": {
    "nbpresent": {
     "id": "2957ddaf-3796-4486-a784-3e08ecb7e5b7"
    },
    "slideshow": {
     "slide_type": "fragment"
    }
   },
   "outputs": [],
   "source": [
    "# Head of column bracket reference vs class attribute for \"age\"\n",
    "# drug['age']"
   ]
  },
  {
   "cell_type": "markdown",
   "metadata": {
    "nbpresent": {
     "id": "5cd69bd7-4bff-4fb5-b575-8919901fa6b6"
    },
    "slideshow": {
     "slide_type": "fragment"
    }
   },
   "source": [
    "Remember: this will be a **Series** object, not a DataFrame."
   ]
  },
  {
   "cell_type": "markdown",
   "metadata": {},
   "source": [
    "#### How many series do you think exist in the DataFrame \"drug\"?"
   ]
  },
  {
   "cell_type": "code",
   "execution_count": 163,
   "metadata": {},
   "outputs": [
    {
     "data": {
      "text/html": [
       "<div>\n",
       "<style scoped>\n",
       "    .dataframe tbody tr th:only-of-type {\n",
       "        vertical-align: middle;\n",
       "    }\n",
       "\n",
       "    .dataframe tbody tr th {\n",
       "        vertical-align: top;\n",
       "    }\n",
       "\n",
       "    .dataframe thead th {\n",
       "        text-align: right;\n",
       "    }\n",
       "</style>\n",
       "<table border=\"1\" class=\"dataframe\">\n",
       "  <thead>\n",
       "    <tr style=\"text-align: right;\">\n",
       "      <th></th>\n",
       "      <th>age</th>\n",
       "      <th>n</th>\n",
       "      <th>alcohol-use</th>\n",
       "      <th>alcohol-frequency</th>\n",
       "      <th>marijuana-use</th>\n",
       "      <th>marijuana-frequency</th>\n",
       "      <th>cocaine-use</th>\n",
       "      <th>cocaine-frequency</th>\n",
       "      <th>crack-use</th>\n",
       "      <th>crack-frequency</th>\n",
       "      <th>...</th>\n",
       "      <th>oxycontin-use</th>\n",
       "      <th>oxycontin-frequency</th>\n",
       "      <th>tranquilizer-use</th>\n",
       "      <th>tranquilizer-frequency</th>\n",
       "      <th>stimulant-use</th>\n",
       "      <th>stimulant-frequency</th>\n",
       "      <th>meth-use</th>\n",
       "      <th>meth-frequency</th>\n",
       "      <th>sedative-use</th>\n",
       "      <th>sedative-frequency</th>\n",
       "    </tr>\n",
       "  </thead>\n",
       "  <tbody>\n",
       "    <tr>\n",
       "      <th>0</th>\n",
       "      <td>12</td>\n",
       "      <td>2798</td>\n",
       "      <td>3.9</td>\n",
       "      <td>3.0</td>\n",
       "      <td>1.1</td>\n",
       "      <td>4.0</td>\n",
       "      <td>0.1</td>\n",
       "      <td>5.0</td>\n",
       "      <td>0.0</td>\n",
       "      <td>-</td>\n",
       "      <td>...</td>\n",
       "      <td>0.1</td>\n",
       "      <td>24.5</td>\n",
       "      <td>0.2</td>\n",
       "      <td>52.0</td>\n",
       "      <td>0.2</td>\n",
       "      <td>2.0</td>\n",
       "      <td>0.0</td>\n",
       "      <td>-</td>\n",
       "      <td>0.2</td>\n",
       "      <td>13.0</td>\n",
       "    </tr>\n",
       "    <tr>\n",
       "      <th>1</th>\n",
       "      <td>13</td>\n",
       "      <td>2757</td>\n",
       "      <td>8.5</td>\n",
       "      <td>6.0</td>\n",
       "      <td>3.4</td>\n",
       "      <td>15.0</td>\n",
       "      <td>0.1</td>\n",
       "      <td>1.0</td>\n",
       "      <td>0.0</td>\n",
       "      <td>3.0</td>\n",
       "      <td>...</td>\n",
       "      <td>0.1</td>\n",
       "      <td>41.0</td>\n",
       "      <td>0.3</td>\n",
       "      <td>25.5</td>\n",
       "      <td>0.3</td>\n",
       "      <td>4.0</td>\n",
       "      <td>0.1</td>\n",
       "      <td>5.0</td>\n",
       "      <td>0.1</td>\n",
       "      <td>19.0</td>\n",
       "    </tr>\n",
       "    <tr>\n",
       "      <th>2</th>\n",
       "      <td>14</td>\n",
       "      <td>2792</td>\n",
       "      <td>18.1</td>\n",
       "      <td>5.0</td>\n",
       "      <td>8.7</td>\n",
       "      <td>24.0</td>\n",
       "      <td>0.1</td>\n",
       "      <td>5.5</td>\n",
       "      <td>0.0</td>\n",
       "      <td>-</td>\n",
       "      <td>...</td>\n",
       "      <td>0.4</td>\n",
       "      <td>4.5</td>\n",
       "      <td>0.9</td>\n",
       "      <td>5.0</td>\n",
       "      <td>0.8</td>\n",
       "      <td>12.0</td>\n",
       "      <td>0.1</td>\n",
       "      <td>24.0</td>\n",
       "      <td>0.2</td>\n",
       "      <td>16.5</td>\n",
       "    </tr>\n",
       "    <tr>\n",
       "      <th>3</th>\n",
       "      <td>15</td>\n",
       "      <td>2956</td>\n",
       "      <td>29.2</td>\n",
       "      <td>6.0</td>\n",
       "      <td>14.5</td>\n",
       "      <td>25.0</td>\n",
       "      <td>0.5</td>\n",
       "      <td>4.0</td>\n",
       "      <td>0.1</td>\n",
       "      <td>9.5</td>\n",
       "      <td>...</td>\n",
       "      <td>0.8</td>\n",
       "      <td>3.0</td>\n",
       "      <td>2.0</td>\n",
       "      <td>4.5</td>\n",
       "      <td>1.5</td>\n",
       "      <td>6.0</td>\n",
       "      <td>0.3</td>\n",
       "      <td>10.5</td>\n",
       "      <td>0.4</td>\n",
       "      <td>30.0</td>\n",
       "    </tr>\n",
       "    <tr>\n",
       "      <th>4</th>\n",
       "      <td>16</td>\n",
       "      <td>3058</td>\n",
       "      <td>40.1</td>\n",
       "      <td>10.0</td>\n",
       "      <td>22.5</td>\n",
       "      <td>30.0</td>\n",
       "      <td>1.0</td>\n",
       "      <td>7.0</td>\n",
       "      <td>0.0</td>\n",
       "      <td>1.0</td>\n",
       "      <td>...</td>\n",
       "      <td>1.1</td>\n",
       "      <td>4.0</td>\n",
       "      <td>2.4</td>\n",
       "      <td>11.0</td>\n",
       "      <td>1.8</td>\n",
       "      <td>9.5</td>\n",
       "      <td>0.3</td>\n",
       "      <td>36.0</td>\n",
       "      <td>0.2</td>\n",
       "      <td>3.0</td>\n",
       "    </tr>\n",
       "    <tr>\n",
       "      <th>5</th>\n",
       "      <td>17</td>\n",
       "      <td>3038</td>\n",
       "      <td>49.3</td>\n",
       "      <td>13.0</td>\n",
       "      <td>28.0</td>\n",
       "      <td>36.0</td>\n",
       "      <td>2.0</td>\n",
       "      <td>5.0</td>\n",
       "      <td>0.1</td>\n",
       "      <td>21.0</td>\n",
       "      <td>...</td>\n",
       "      <td>1.4</td>\n",
       "      <td>6.0</td>\n",
       "      <td>3.5</td>\n",
       "      <td>7.0</td>\n",
       "      <td>2.8</td>\n",
       "      <td>9.0</td>\n",
       "      <td>0.6</td>\n",
       "      <td>48.0</td>\n",
       "      <td>0.5</td>\n",
       "      <td>6.5</td>\n",
       "    </tr>\n",
       "    <tr>\n",
       "      <th>6</th>\n",
       "      <td>18</td>\n",
       "      <td>2469</td>\n",
       "      <td>58.7</td>\n",
       "      <td>24.0</td>\n",
       "      <td>33.7</td>\n",
       "      <td>52.0</td>\n",
       "      <td>3.2</td>\n",
       "      <td>5.0</td>\n",
       "      <td>0.4</td>\n",
       "      <td>10.0</td>\n",
       "      <td>...</td>\n",
       "      <td>1.7</td>\n",
       "      <td>7.0</td>\n",
       "      <td>4.9</td>\n",
       "      <td>12.0</td>\n",
       "      <td>3.0</td>\n",
       "      <td>8.0</td>\n",
       "      <td>0.5</td>\n",
       "      <td>12.0</td>\n",
       "      <td>0.4</td>\n",
       "      <td>10.0</td>\n",
       "    </tr>\n",
       "    <tr>\n",
       "      <th>7</th>\n",
       "      <td>19</td>\n",
       "      <td>2223</td>\n",
       "      <td>64.6</td>\n",
       "      <td>36.0</td>\n",
       "      <td>33.4</td>\n",
       "      <td>60.0</td>\n",
       "      <td>4.1</td>\n",
       "      <td>5.5</td>\n",
       "      <td>0.5</td>\n",
       "      <td>2.0</td>\n",
       "      <td>...</td>\n",
       "      <td>1.5</td>\n",
       "      <td>7.5</td>\n",
       "      <td>4.2</td>\n",
       "      <td>4.5</td>\n",
       "      <td>3.3</td>\n",
       "      <td>6.0</td>\n",
       "      <td>0.4</td>\n",
       "      <td>105.0</td>\n",
       "      <td>0.3</td>\n",
       "      <td>6.0</td>\n",
       "    </tr>\n",
       "    <tr>\n",
       "      <th>8</th>\n",
       "      <td>20</td>\n",
       "      <td>2271</td>\n",
       "      <td>69.7</td>\n",
       "      <td>48.0</td>\n",
       "      <td>34.0</td>\n",
       "      <td>60.0</td>\n",
       "      <td>4.9</td>\n",
       "      <td>8.0</td>\n",
       "      <td>0.6</td>\n",
       "      <td>5.0</td>\n",
       "      <td>...</td>\n",
       "      <td>1.7</td>\n",
       "      <td>12.0</td>\n",
       "      <td>5.4</td>\n",
       "      <td>10.0</td>\n",
       "      <td>4.0</td>\n",
       "      <td>12.0</td>\n",
       "      <td>0.9</td>\n",
       "      <td>12.0</td>\n",
       "      <td>0.5</td>\n",
       "      <td>4.0</td>\n",
       "    </tr>\n",
       "    <tr>\n",
       "      <th>9</th>\n",
       "      <td>21</td>\n",
       "      <td>2354</td>\n",
       "      <td>83.2</td>\n",
       "      <td>52.0</td>\n",
       "      <td>33.0</td>\n",
       "      <td>52.0</td>\n",
       "      <td>4.8</td>\n",
       "      <td>5.0</td>\n",
       "      <td>0.5</td>\n",
       "      <td>17.0</td>\n",
       "      <td>...</td>\n",
       "      <td>1.3</td>\n",
       "      <td>13.5</td>\n",
       "      <td>3.9</td>\n",
       "      <td>7.0</td>\n",
       "      <td>4.1</td>\n",
       "      <td>10.0</td>\n",
       "      <td>0.6</td>\n",
       "      <td>2.0</td>\n",
       "      <td>0.3</td>\n",
       "      <td>9.0</td>\n",
       "    </tr>\n",
       "    <tr>\n",
       "      <th>10</th>\n",
       "      <td>22-23</td>\n",
       "      <td>4707</td>\n",
       "      <td>84.2</td>\n",
       "      <td>52.0</td>\n",
       "      <td>28.4</td>\n",
       "      <td>52.0</td>\n",
       "      <td>4.5</td>\n",
       "      <td>5.0</td>\n",
       "      <td>0.5</td>\n",
       "      <td>5.0</td>\n",
       "      <td>...</td>\n",
       "      <td>1.7</td>\n",
       "      <td>17.5</td>\n",
       "      <td>4.4</td>\n",
       "      <td>12.0</td>\n",
       "      <td>3.6</td>\n",
       "      <td>10.0</td>\n",
       "      <td>0.6</td>\n",
       "      <td>46.0</td>\n",
       "      <td>0.2</td>\n",
       "      <td>52.0</td>\n",
       "    </tr>\n",
       "    <tr>\n",
       "      <th>11</th>\n",
       "      <td>24-25</td>\n",
       "      <td>4591</td>\n",
       "      <td>83.1</td>\n",
       "      <td>52.0</td>\n",
       "      <td>24.9</td>\n",
       "      <td>60.0</td>\n",
       "      <td>4.0</td>\n",
       "      <td>6.0</td>\n",
       "      <td>0.5</td>\n",
       "      <td>6.0</td>\n",
       "      <td>...</td>\n",
       "      <td>1.3</td>\n",
       "      <td>20.0</td>\n",
       "      <td>4.3</td>\n",
       "      <td>10.0</td>\n",
       "      <td>2.6</td>\n",
       "      <td>10.0</td>\n",
       "      <td>0.7</td>\n",
       "      <td>21.0</td>\n",
       "      <td>0.2</td>\n",
       "      <td>17.5</td>\n",
       "    </tr>\n",
       "    <tr>\n",
       "      <th>12</th>\n",
       "      <td>26-29</td>\n",
       "      <td>2628</td>\n",
       "      <td>80.7</td>\n",
       "      <td>52.0</td>\n",
       "      <td>20.8</td>\n",
       "      <td>52.0</td>\n",
       "      <td>3.2</td>\n",
       "      <td>5.0</td>\n",
       "      <td>0.4</td>\n",
       "      <td>6.0</td>\n",
       "      <td>...</td>\n",
       "      <td>1.2</td>\n",
       "      <td>13.5</td>\n",
       "      <td>4.2</td>\n",
       "      <td>10.0</td>\n",
       "      <td>2.3</td>\n",
       "      <td>7.0</td>\n",
       "      <td>0.6</td>\n",
       "      <td>30.0</td>\n",
       "      <td>0.4</td>\n",
       "      <td>4.0</td>\n",
       "    </tr>\n",
       "    <tr>\n",
       "      <th>13</th>\n",
       "      <td>30-34</td>\n",
       "      <td>2864</td>\n",
       "      <td>77.5</td>\n",
       "      <td>52.0</td>\n",
       "      <td>16.4</td>\n",
       "      <td>72.0</td>\n",
       "      <td>2.1</td>\n",
       "      <td>8.0</td>\n",
       "      <td>0.5</td>\n",
       "      <td>15.0</td>\n",
       "      <td>...</td>\n",
       "      <td>0.9</td>\n",
       "      <td>46.0</td>\n",
       "      <td>3.6</td>\n",
       "      <td>8.0</td>\n",
       "      <td>1.4</td>\n",
       "      <td>12.0</td>\n",
       "      <td>0.4</td>\n",
       "      <td>54.0</td>\n",
       "      <td>0.4</td>\n",
       "      <td>10.0</td>\n",
       "    </tr>\n",
       "    <tr>\n",
       "      <th>14</th>\n",
       "      <td>35-49</td>\n",
       "      <td>7391</td>\n",
       "      <td>75.0</td>\n",
       "      <td>52.0</td>\n",
       "      <td>10.4</td>\n",
       "      <td>48.0</td>\n",
       "      <td>1.5</td>\n",
       "      <td>15.0</td>\n",
       "      <td>0.5</td>\n",
       "      <td>48.0</td>\n",
       "      <td>...</td>\n",
       "      <td>0.3</td>\n",
       "      <td>12.0</td>\n",
       "      <td>1.9</td>\n",
       "      <td>6.0</td>\n",
       "      <td>0.6</td>\n",
       "      <td>24.0</td>\n",
       "      <td>0.2</td>\n",
       "      <td>104.0</td>\n",
       "      <td>0.3</td>\n",
       "      <td>10.0</td>\n",
       "    </tr>\n",
       "    <tr>\n",
       "      <th>15</th>\n",
       "      <td>50-64</td>\n",
       "      <td>3923</td>\n",
       "      <td>67.2</td>\n",
       "      <td>52.0</td>\n",
       "      <td>7.3</td>\n",
       "      <td>52.0</td>\n",
       "      <td>0.9</td>\n",
       "      <td>36.0</td>\n",
       "      <td>0.4</td>\n",
       "      <td>62.0</td>\n",
       "      <td>...</td>\n",
       "      <td>0.4</td>\n",
       "      <td>5.0</td>\n",
       "      <td>1.4</td>\n",
       "      <td>10.0</td>\n",
       "      <td>0.3</td>\n",
       "      <td>24.0</td>\n",
       "      <td>0.2</td>\n",
       "      <td>30.0</td>\n",
       "      <td>0.2</td>\n",
       "      <td>104.0</td>\n",
       "    </tr>\n",
       "    <tr>\n",
       "      <th>16</th>\n",
       "      <td>65+</td>\n",
       "      <td>2448</td>\n",
       "      <td>49.3</td>\n",
       "      <td>52.0</td>\n",
       "      <td>1.2</td>\n",
       "      <td>36.0</td>\n",
       "      <td>0.0</td>\n",
       "      <td>-</td>\n",
       "      <td>0.0</td>\n",
       "      <td>-</td>\n",
       "      <td>...</td>\n",
       "      <td>0.0</td>\n",
       "      <td>-</td>\n",
       "      <td>0.2</td>\n",
       "      <td>5.0</td>\n",
       "      <td>0.0</td>\n",
       "      <td>364.0</td>\n",
       "      <td>0.0</td>\n",
       "      <td>-</td>\n",
       "      <td>0.0</td>\n",
       "      <td>15.0</td>\n",
       "    </tr>\n",
       "  </tbody>\n",
       "</table>\n",
       "<p>17 rows × 28 columns</p>\n",
       "</div>"
      ],
      "text/plain": [
       "      age     n  alcohol-use  alcohol-frequency  marijuana-use  \\\n",
       "0      12  2798          3.9                3.0            1.1   \n",
       "1      13  2757          8.5                6.0            3.4   \n",
       "2      14  2792         18.1                5.0            8.7   \n",
       "3      15  2956         29.2                6.0           14.5   \n",
       "4      16  3058         40.1               10.0           22.5   \n",
       "5      17  3038         49.3               13.0           28.0   \n",
       "6      18  2469         58.7               24.0           33.7   \n",
       "7      19  2223         64.6               36.0           33.4   \n",
       "8      20  2271         69.7               48.0           34.0   \n",
       "9      21  2354         83.2               52.0           33.0   \n",
       "10  22-23  4707         84.2               52.0           28.4   \n",
       "11  24-25  4591         83.1               52.0           24.9   \n",
       "12  26-29  2628         80.7               52.0           20.8   \n",
       "13  30-34  2864         77.5               52.0           16.4   \n",
       "14  35-49  7391         75.0               52.0           10.4   \n",
       "15  50-64  3923         67.2               52.0            7.3   \n",
       "16    65+  2448         49.3               52.0            1.2   \n",
       "\n",
       "    marijuana-frequency  cocaine-use cocaine-frequency  crack-use  \\\n",
       "0                   4.0          0.1               5.0        0.0   \n",
       "1                  15.0          0.1               1.0        0.0   \n",
       "2                  24.0          0.1               5.5        0.0   \n",
       "3                  25.0          0.5               4.0        0.1   \n",
       "4                  30.0          1.0               7.0        0.0   \n",
       "5                  36.0          2.0               5.0        0.1   \n",
       "6                  52.0          3.2               5.0        0.4   \n",
       "7                  60.0          4.1               5.5        0.5   \n",
       "8                  60.0          4.9               8.0        0.6   \n",
       "9                  52.0          4.8               5.0        0.5   \n",
       "10                 52.0          4.5               5.0        0.5   \n",
       "11                 60.0          4.0               6.0        0.5   \n",
       "12                 52.0          3.2               5.0        0.4   \n",
       "13                 72.0          2.1               8.0        0.5   \n",
       "14                 48.0          1.5              15.0        0.5   \n",
       "15                 52.0          0.9              36.0        0.4   \n",
       "16                 36.0          0.0                 -        0.0   \n",
       "\n",
       "   crack-frequency        ...          oxycontin-use oxycontin-frequency  \\\n",
       "0                -        ...                    0.1                24.5   \n",
       "1              3.0        ...                    0.1                41.0   \n",
       "2                -        ...                    0.4                 4.5   \n",
       "3              9.5        ...                    0.8                 3.0   \n",
       "4              1.0        ...                    1.1                 4.0   \n",
       "5             21.0        ...                    1.4                 6.0   \n",
       "6             10.0        ...                    1.7                 7.0   \n",
       "7              2.0        ...                    1.5                 7.5   \n",
       "8              5.0        ...                    1.7                12.0   \n",
       "9             17.0        ...                    1.3                13.5   \n",
       "10             5.0        ...                    1.7                17.5   \n",
       "11             6.0        ...                    1.3                20.0   \n",
       "12             6.0        ...                    1.2                13.5   \n",
       "13            15.0        ...                    0.9                46.0   \n",
       "14            48.0        ...                    0.3                12.0   \n",
       "15            62.0        ...                    0.4                 5.0   \n",
       "16               -        ...                    0.0                   -   \n",
       "\n",
       "    tranquilizer-use  tranquilizer-frequency  stimulant-use  \\\n",
       "0                0.2                    52.0            0.2   \n",
       "1                0.3                    25.5            0.3   \n",
       "2                0.9                     5.0            0.8   \n",
       "3                2.0                     4.5            1.5   \n",
       "4                2.4                    11.0            1.8   \n",
       "5                3.5                     7.0            2.8   \n",
       "6                4.9                    12.0            3.0   \n",
       "7                4.2                     4.5            3.3   \n",
       "8                5.4                    10.0            4.0   \n",
       "9                3.9                     7.0            4.1   \n",
       "10               4.4                    12.0            3.6   \n",
       "11               4.3                    10.0            2.6   \n",
       "12               4.2                    10.0            2.3   \n",
       "13               3.6                     8.0            1.4   \n",
       "14               1.9                     6.0            0.6   \n",
       "15               1.4                    10.0            0.3   \n",
       "16               0.2                     5.0            0.0   \n",
       "\n",
       "   stimulant-frequency  meth-use  meth-frequency  sedative-use  \\\n",
       "0                  2.0       0.0               -           0.2   \n",
       "1                  4.0       0.1             5.0           0.1   \n",
       "2                 12.0       0.1            24.0           0.2   \n",
       "3                  6.0       0.3            10.5           0.4   \n",
       "4                  9.5       0.3            36.0           0.2   \n",
       "5                  9.0       0.6            48.0           0.5   \n",
       "6                  8.0       0.5            12.0           0.4   \n",
       "7                  6.0       0.4           105.0           0.3   \n",
       "8                 12.0       0.9            12.0           0.5   \n",
       "9                 10.0       0.6             2.0           0.3   \n",
       "10                10.0       0.6            46.0           0.2   \n",
       "11                10.0       0.7            21.0           0.2   \n",
       "12                 7.0       0.6            30.0           0.4   \n",
       "13                12.0       0.4            54.0           0.4   \n",
       "14                24.0       0.2           104.0           0.3   \n",
       "15                24.0       0.2            30.0           0.2   \n",
       "16               364.0       0.0               -           0.0   \n",
       "\n",
       "   sedative-frequency  \n",
       "0                13.0  \n",
       "1                19.0  \n",
       "2                16.5  \n",
       "3                30.0  \n",
       "4                 3.0  \n",
       "5                 6.5  \n",
       "6                10.0  \n",
       "7                 6.0  \n",
       "8                 4.0  \n",
       "9                 9.0  \n",
       "10               52.0  \n",
       "11               17.5  \n",
       "12                4.0  \n",
       "13               10.0  \n",
       "14               10.0  \n",
       "15              104.0  \n",
       "16               15.0  \n",
       "\n",
       "[17 rows x 28 columns]"
      ]
     },
     "execution_count": 163,
     "metadata": {},
     "output_type": "execute_result"
    }
   ],
   "source": [
    "## Inspect the DataFrame called drug on your own\n",
    "drug"
   ]
  },
  {
   "cell_type": "markdown",
   "metadata": {
    "slideshow": {
     "slide_type": "slide"
    }
   },
   "source": [
    "<a id='info'></a>\n",
    "\n",
    "### Examining your data with `.info()`\n",
    "\n",
    "---\n",
    "\n",
    "The `.info()` should be the first thing you look at when getting acquainted with a new dataset.\n",
    "\n",
    "**Types** are very important.  They impact the way data will be represented in our machine learning models, how data can be joined, whether or not math operators can be applied, and when you can encounter unexpected results.\n",
    "\n",
    "> _Typical problems when working with new datasets_:\n",
    "> - Missing values\n",
    "> - Unexpected types (string/object instead of int/float)\n",
    "> - Dirty data (commas, dollar signs, unexpected characters, etc)\n",
    "> - Blank values that are actually \"non-null\" or single white-space characters\n",
    "\n",
    "`.info()` is a function that is available on every **DataFrame** object. It gives you information about:\n",
    "\n",
    "- Name of column / variable attribute\n",
    "- Type of index (RangeIndex is default)\n",
    "- Count of non-null values by column / attribute\n",
    "- Type of data contained in column / attribute\n",
    "- Unqiue counts of dtypes (Pandas data types)\n",
    "- Memory usage of our dataset\n"
   ]
  },
  {
   "cell_type": "code",
   "execution_count": 164,
   "metadata": {
    "slideshow": {
     "slide_type": "slide"
    }
   },
   "outputs": [
    {
     "name": "stdout",
     "output_type": "stream",
     "text": [
      "<class 'pandas.core.frame.DataFrame'>\n",
      "RangeIndex: 17 entries, 0 to 16\n",
      "Data columns (total 28 columns):\n",
      "age                        17 non-null object\n",
      "n                          17 non-null int64\n",
      "alcohol-use                17 non-null float64\n",
      "alcohol-frequency          17 non-null float64\n",
      "marijuana-use              17 non-null float64\n",
      "marijuana-frequency        17 non-null float64\n",
      "cocaine-use                17 non-null float64\n",
      "cocaine-frequency          17 non-null object\n",
      "crack-use                  17 non-null float64\n",
      "crack-frequency            17 non-null object\n",
      "heroin-use                 17 non-null float64\n",
      "heroin-frequency           17 non-null object\n",
      "hallucinogen-use           17 non-null float64\n",
      "hallucinogen-frequency     17 non-null float64\n",
      "inhalant-use               17 non-null float64\n",
      "inhalant-frequency         17 non-null object\n",
      "pain-releiver-use          17 non-null float64\n",
      "pain-releiver-frequency    17 non-null float64\n",
      "oxycontin-use              17 non-null float64\n",
      "oxycontin-frequency        17 non-null object\n",
      "tranquilizer-use           17 non-null float64\n",
      "tranquilizer-frequency     17 non-null float64\n",
      "stimulant-use              17 non-null float64\n",
      "stimulant-frequency        17 non-null float64\n",
      "meth-use                   17 non-null float64\n",
      "meth-frequency             17 non-null object\n",
      "sedative-use               17 non-null float64\n",
      "sedative-frequency         17 non-null float64\n",
      "dtypes: float64(20), int64(1), object(7)\n",
      "memory usage: 3.8+ KB\n"
     ]
    }
   ],
   "source": [
    "# Inspect the \"drug\" dataframes `info` attribute.\n",
    "drug.info()"
   ]
  },
  {
   "cell_type": "code",
   "execution_count": 168,
   "metadata": {},
   "outputs": [
    {
     "data": {
      "text/plain": [
       "7"
      ]
     },
     "execution_count": 168,
     "metadata": {},
     "output_type": "execute_result"
    }
   ],
   "source": [
    "test = [1,2,3,4,5,6,\"7\"]\n",
    "int(test[-1])"
   ]
  },
  {
   "cell_type": "code",
   "execution_count": 165,
   "metadata": {},
   "outputs": [
    {
     "data": {
      "text/plain": [
       "5.0     6\n",
       "8.0     2\n",
       "5.5     2\n",
       "6.0     1\n",
       "15.0    1\n",
       "7.0     1\n",
       "1.0     1\n",
       "36.0    1\n",
       "-       1\n",
       "4.0     1\n",
       "Name: cocaine-frequency, dtype: int64"
      ]
     },
     "execution_count": 165,
     "metadata": {},
     "output_type": "execute_result"
    }
   ],
   "source": [
    "# value counts\n",
    "drug['cocaine-frequency'].value_counts()"
   ]
  },
  {
   "cell_type": "markdown",
   "metadata": {
    "slideshow": {
     "slide_type": "slide"
    }
   },
   "source": [
    "### Caveat:  Working with Larger Datasets \n",
    "\n",
    "---\n",
    "\n",
    "If you have a dataset that is larger than your given memory, there are better solutions for working with your data.\n",
    "\n",
    "![](https://snag.gy/UGNamo.jpg)\n",
    "\n",
    "Generally:\n",
    "\n",
    "- Consider storing your data in a relational database.\n",
    "- Use HDF5 (PyTables) if you need to operate on all of the data.\n",
    "- Take a sample of your larger dataset, approximating the total data, before importing or downloading.\n",
    "- Consider distributed computing environment like Hadoop, Starcluster, or Spark (there are even more options and considerations for this but we will cover them in the future!).\n"
   ]
  },
  {
   "cell_type": "markdown",
   "metadata": {
    "nbpresent": {
     "id": "3f0c0568-5a2d-4559-ac13-7170a5c43846"
    },
    "slideshow": {
     "slide_type": "slide"
    }
   },
   "source": [
    "<a id='describe'></a>\n",
    "\n",
    "### Summarizing data with `.describe()`\n",
    "\n",
    "---\n",
    "\n",
    "The ```.describe()``` function is very useful for taking a quick look at your data. It gives you some of the basic descriptive statistics.\n",
    "\n",
    "Use the ```.describe()``` function on just the ```crack-use``` column."
   ]
  },
  {
   "cell_type": "code",
   "execution_count": 169,
   "metadata": {
    "nbpresent": {
     "id": "4d3ae9ac-b23b-4c49-9f0a-126c842419e8"
    },
    "slideshow": {
     "slide_type": "fragment"
    }
   },
   "outputs": [
    {
     "data": {
      "text/plain": [
       "count    17.000000\n",
       "mean      0.294118\n",
       "std       0.235772\n",
       "min       0.000000\n",
       "25%       0.000000\n",
       "50%       0.400000\n",
       "75%       0.500000\n",
       "max       0.600000\n",
       "Name: crack-use, dtype: float64"
      ]
     },
     "execution_count": 169,
     "metadata": {},
     "output_type": "execute_result"
    }
   ],
   "source": [
    "## Describe \"crack-use\" of \"drug\" DataFrame\n",
    "drug['crack-use'].describe()"
   ]
  },
  {
   "cell_type": "markdown",
   "metadata": {
    "nbpresent": {
     "id": "18836c37-de0e-4200-8eb8-3c9084da3b6b"
    },
    "slideshow": {
     "slide_type": "fragment"
    }
   },
   "source": [
    "You can use it on multiple columns, such as ```crack-use``` and ```alcohol-frequency```."
   ]
  },
  {
   "cell_type": "code",
   "execution_count": 173,
   "metadata": {
    "nbpresent": {
     "id": "59ba0259-fb6c-4bd1-b274-2035540493be"
    }
   },
   "outputs": [
    {
     "data": {
      "text/html": [
       "<div>\n",
       "<style scoped>\n",
       "    .dataframe tbody tr th:only-of-type {\n",
       "        vertical-align: middle;\n",
       "    }\n",
       "\n",
       "    .dataframe tbody tr th {\n",
       "        vertical-align: top;\n",
       "    }\n",
       "\n",
       "    .dataframe thead th {\n",
       "        text-align: right;\n",
       "    }\n",
       "</style>\n",
       "<table border=\"1\" class=\"dataframe\">\n",
       "  <thead>\n",
       "    <tr style=\"text-align: right;\">\n",
       "      <th></th>\n",
       "      <th>count</th>\n",
       "      <th>mean</th>\n",
       "      <th>std</th>\n",
       "      <th>min</th>\n",
       "      <th>25%</th>\n",
       "      <th>50%</th>\n",
       "      <th>75%</th>\n",
       "      <th>max</th>\n",
       "    </tr>\n",
       "  </thead>\n",
       "  <tbody>\n",
       "    <tr>\n",
       "      <th>crack-use</th>\n",
       "      <td>17.0</td>\n",
       "      <td>0.294118</td>\n",
       "      <td>0.235772</td>\n",
       "      <td>0.0</td>\n",
       "      <td>0.0</td>\n",
       "      <td>0.4</td>\n",
       "      <td>0.5</td>\n",
       "      <td>0.6</td>\n",
       "    </tr>\n",
       "    <tr>\n",
       "      <th>alcohol-frequency</th>\n",
       "      <td>17.0</td>\n",
       "      <td>33.352941</td>\n",
       "      <td>21.318833</td>\n",
       "      <td>3.0</td>\n",
       "      <td>10.0</td>\n",
       "      <td>48.0</td>\n",
       "      <td>52.0</td>\n",
       "      <td>52.0</td>\n",
       "    </tr>\n",
       "  </tbody>\n",
       "</table>\n",
       "</div>"
      ],
      "text/plain": [
       "                   count       mean        std  min   25%   50%   75%   max\n",
       "crack-use           17.0   0.294118   0.235772  0.0   0.0   0.4   0.5   0.6\n",
       "alcohol-frequency   17.0  33.352941  21.318833  3.0  10.0  48.0  52.0  52.0"
      ]
     },
     "execution_count": 173,
     "metadata": {},
     "output_type": "execute_result"
    }
   ],
   "source": [
    "# Might also describe with transposed output\n",
    "columns = [\"crack-use\", \"alcohol-frequency\"]\n",
    "drug[columns].describe().T"
   ]
  },
  {
   "cell_type": "code",
   "execution_count": 179,
   "metadata": {},
   "outputs": [],
   "source": [
    "# drug.mean()"
   ]
  },
  {
   "cell_type": "code",
   "execution_count": null,
   "metadata": {},
   "outputs": [],
   "source": []
  },
  {
   "cell_type": "markdown",
   "metadata": {
    "nbpresent": {
     "id": "969967d8-7094-4960-8c4b-5583fed79648"
    },
    "slideshow": {
     "slide_type": "slide"
    }
   },
   "source": [
    "```.describe()``` gives us these statistics:\n",
    "\n",
    "- **count**, which is equivalent to the number of cells (rows)\n",
    "- **mean**, the average of the values in the column\n",
    "- **std**, which is the standard deviation\n",
    "- **min**, the minimum value\n",
    "- **25%**, the 25th percentile of the values \n",
    "- **50%**, the 50th percentile of the values, which is the equivalent to the median\n",
    "- **75%**, the 75th percentile of the values\n",
    "- **max**, the maximum value\n",
    "\n",
    "<img src=\"https://snag.gy/AH6E8I.jpg\">"
   ]
  },
  {
   "cell_type": "markdown",
   "metadata": {
    "nbpresent": {
     "id": "5bc97eed-d555-4e31-bbd6-d2f7bc26a1d4"
    },
    "slideshow": {
     "slide_type": "slide"
    }
   },
   "source": [
    "There are built-in math functions that will work on all of the columns of a DataFrame at once, or subsets of the data (series).\n",
    "\n",
    "We can use the ```.mean()``` function on the ```drug``` DataFrame to get the mean for every column."
   ]
  },
  {
   "cell_type": "code",
   "execution_count": 92,
   "metadata": {
    "nbpresent": {
     "id": "adde643c-6657-4d32-bf3d-4406a9ae3303"
    }
   },
   "outputs": [
    {
     "data": {
      "text/plain": [
       "33.352941176470587"
      ]
     },
     "execution_count": 92,
     "metadata": {},
     "output_type": "execute_result"
    }
   ],
   "source": [
    "# aggregate mean on drug dataframe"
   ]
  },
  {
   "cell_type": "code",
   "execution_count": 93,
   "metadata": {},
   "outputs": [
    {
     "data": {
      "text/plain": [
       "n                          3251.058824\n",
       "alcohol-use                  55.429412\n",
       "alcohol-frequency            33.352941\n",
       "marijuana-use                18.923529\n",
       "marijuana-frequency          42.941176\n",
       "cocaine-use                   2.176471\n",
       "crack-use                     0.294118\n",
       "heroin-use                    0.352941\n",
       "hallucinogen-use              3.394118\n",
       "hallucinogen-frequency        8.411765\n",
       "inhalant-use                  1.388235\n",
       "pain-releiver-use             6.270588\n",
       "pain-releiver-frequency      14.705882\n",
       "oxycontin-use                 0.935294\n",
       "tranquilizer-use              2.805882\n",
       "tranquilizer-frequency       11.735294\n",
       "stimulant-use                 1.917647\n",
       "stimulant-frequency          31.147059\n",
       "meth-use                      0.382353\n",
       "sedative-use                  0.282353\n",
       "sedative-frequency           19.382353\n",
       "dtype: float64"
      ]
     },
     "execution_count": 93,
     "metadata": {},
     "output_type": "execute_result"
    }
   ],
   "source": []
  },
  {
   "cell_type": "markdown",
   "metadata": {},
   "source": [
    "#### Are there any characteristics we may not see in our dataset with \"describe\" that you think could be important?"
   ]
  },
  {
   "cell_type": "markdown",
   "metadata": {
    "slideshow": {
     "slide_type": "slide"
    }
   },
   "source": [
    "<a id='independent_practice'></a>\n",
    "\n",
    "### Independent Practice\n",
    "\n",
    "---\n",
    "\n",
    "Now that we know a little bit about basic DataFrame use, let's practice on a new dataset.\n",
    "\n",
    "> Pro tip:  You can use the \"tab\" key to browse filesystem resources when your cursor is in a string to get a relative reference to the files that can be loaded in Jupyter notebook.  Remember, you have to use your arrow keys to navigate the files populated in the UI. \n",
    "\n",
    "<img src=\"https://snag.gy/IlLNm9.jpg\">\n",
    "\n",
    "1. Find and load the \"diamonds\" dataset into a DataFrame (in the datasets directory).\n",
    "1. Print out the columns.\n",
    "1. What does the dataset look like in terms of dimensions?\n",
    "1. Check the types of each column.\n",
    "  1. What is the most common type?\n",
    "  1. How many entries are there?\n",
    "  1. How much memory does this dataset consume?\n",
    "1. Examine the summary statistics of the dataset."
   ]
  },
  {
   "cell_type": "code",
   "execution_count": 181,
   "metadata": {
    "slideshow": {
     "slide_type": "fragment"
    }
   },
   "outputs": [
    {
     "data": {
      "text/html": [
       "<div>\n",
       "<style scoped>\n",
       "    .dataframe tbody tr th:only-of-type {\n",
       "        vertical-align: middle;\n",
       "    }\n",
       "\n",
       "    .dataframe tbody tr th {\n",
       "        vertical-align: top;\n",
       "    }\n",
       "\n",
       "    .dataframe thead th {\n",
       "        text-align: right;\n",
       "    }\n",
       "</style>\n",
       "<table border=\"1\" class=\"dataframe\">\n",
       "  <thead>\n",
       "    <tr style=\"text-align: right;\">\n",
       "      <th></th>\n",
       "      <th>carat</th>\n",
       "      <th>cut</th>\n",
       "      <th>color</th>\n",
       "      <th>clarity</th>\n",
       "      <th>depth</th>\n",
       "      <th>table</th>\n",
       "      <th>price</th>\n",
       "      <th>x</th>\n",
       "      <th>y</th>\n",
       "      <th>z</th>\n",
       "    </tr>\n",
       "  </thead>\n",
       "  <tbody>\n",
       "    <tr>\n",
       "      <th>0</th>\n",
       "      <td>0.23</td>\n",
       "      <td>Ideal</td>\n",
       "      <td>E</td>\n",
       "      <td>SI2</td>\n",
       "      <td>61.5</td>\n",
       "      <td>55.0</td>\n",
       "      <td>326</td>\n",
       "      <td>3.95</td>\n",
       "      <td>3.98</td>\n",
       "      <td>2.43</td>\n",
       "    </tr>\n",
       "    <tr>\n",
       "      <th>1</th>\n",
       "      <td>0.21</td>\n",
       "      <td>Premium</td>\n",
       "      <td>E</td>\n",
       "      <td>SI1</td>\n",
       "      <td>59.8</td>\n",
       "      <td>61.0</td>\n",
       "      <td>326</td>\n",
       "      <td>3.89</td>\n",
       "      <td>3.84</td>\n",
       "      <td>2.31</td>\n",
       "    </tr>\n",
       "    <tr>\n",
       "      <th>2</th>\n",
       "      <td>0.23</td>\n",
       "      <td>Good</td>\n",
       "      <td>E</td>\n",
       "      <td>VS1</td>\n",
       "      <td>56.9</td>\n",
       "      <td>65.0</td>\n",
       "      <td>327</td>\n",
       "      <td>4.05</td>\n",
       "      <td>4.07</td>\n",
       "      <td>2.31</td>\n",
       "    </tr>\n",
       "    <tr>\n",
       "      <th>3</th>\n",
       "      <td>0.29</td>\n",
       "      <td>Premium</td>\n",
       "      <td>I</td>\n",
       "      <td>VS2</td>\n",
       "      <td>62.4</td>\n",
       "      <td>58.0</td>\n",
       "      <td>334</td>\n",
       "      <td>4.20</td>\n",
       "      <td>4.23</td>\n",
       "      <td>2.63</td>\n",
       "    </tr>\n",
       "    <tr>\n",
       "      <th>4</th>\n",
       "      <td>0.31</td>\n",
       "      <td>Good</td>\n",
       "      <td>J</td>\n",
       "      <td>SI2</td>\n",
       "      <td>63.3</td>\n",
       "      <td>58.0</td>\n",
       "      <td>335</td>\n",
       "      <td>4.34</td>\n",
       "      <td>4.35</td>\n",
       "      <td>2.75</td>\n",
       "    </tr>\n",
       "    <tr>\n",
       "      <th>5</th>\n",
       "      <td>0.24</td>\n",
       "      <td>Very Good</td>\n",
       "      <td>J</td>\n",
       "      <td>VVS2</td>\n",
       "      <td>62.8</td>\n",
       "      <td>57.0</td>\n",
       "      <td>336</td>\n",
       "      <td>3.94</td>\n",
       "      <td>3.96</td>\n",
       "      <td>2.48</td>\n",
       "    </tr>\n",
       "    <tr>\n",
       "      <th>6</th>\n",
       "      <td>0.24</td>\n",
       "      <td>Very Good</td>\n",
       "      <td>I</td>\n",
       "      <td>VVS1</td>\n",
       "      <td>62.3</td>\n",
       "      <td>57.0</td>\n",
       "      <td>336</td>\n",
       "      <td>3.95</td>\n",
       "      <td>3.98</td>\n",
       "      <td>2.47</td>\n",
       "    </tr>\n",
       "    <tr>\n",
       "      <th>7</th>\n",
       "      <td>0.26</td>\n",
       "      <td>Very Good</td>\n",
       "      <td>H</td>\n",
       "      <td>SI1</td>\n",
       "      <td>61.9</td>\n",
       "      <td>55.0</td>\n",
       "      <td>337</td>\n",
       "      <td>4.07</td>\n",
       "      <td>4.11</td>\n",
       "      <td>2.53</td>\n",
       "    </tr>\n",
       "    <tr>\n",
       "      <th>8</th>\n",
       "      <td>0.22</td>\n",
       "      <td>Fair</td>\n",
       "      <td>E</td>\n",
       "      <td>VS2</td>\n",
       "      <td>65.1</td>\n",
       "      <td>61.0</td>\n",
       "      <td>337</td>\n",
       "      <td>3.87</td>\n",
       "      <td>3.78</td>\n",
       "      <td>2.49</td>\n",
       "    </tr>\n",
       "    <tr>\n",
       "      <th>9</th>\n",
       "      <td>0.23</td>\n",
       "      <td>Very Good</td>\n",
       "      <td>H</td>\n",
       "      <td>VS1</td>\n",
       "      <td>59.4</td>\n",
       "      <td>61.0</td>\n",
       "      <td>338</td>\n",
       "      <td>4.00</td>\n",
       "      <td>4.05</td>\n",
       "      <td>2.39</td>\n",
       "    </tr>\n",
       "    <tr>\n",
       "      <th>10</th>\n",
       "      <td>0.30</td>\n",
       "      <td>Good</td>\n",
       "      <td>J</td>\n",
       "      <td>SI1</td>\n",
       "      <td>64.0</td>\n",
       "      <td>55.0</td>\n",
       "      <td>339</td>\n",
       "      <td>4.25</td>\n",
       "      <td>4.28</td>\n",
       "      <td>2.73</td>\n",
       "    </tr>\n",
       "    <tr>\n",
       "      <th>11</th>\n",
       "      <td>0.23</td>\n",
       "      <td>Ideal</td>\n",
       "      <td>J</td>\n",
       "      <td>VS1</td>\n",
       "      <td>62.8</td>\n",
       "      <td>56.0</td>\n",
       "      <td>340</td>\n",
       "      <td>3.93</td>\n",
       "      <td>3.90</td>\n",
       "      <td>2.46</td>\n",
       "    </tr>\n",
       "    <tr>\n",
       "      <th>12</th>\n",
       "      <td>0.22</td>\n",
       "      <td>Premium</td>\n",
       "      <td>F</td>\n",
       "      <td>SI1</td>\n",
       "      <td>60.4</td>\n",
       "      <td>61.0</td>\n",
       "      <td>342</td>\n",
       "      <td>3.88</td>\n",
       "      <td>3.84</td>\n",
       "      <td>2.33</td>\n",
       "    </tr>\n",
       "    <tr>\n",
       "      <th>13</th>\n",
       "      <td>0.31</td>\n",
       "      <td>Ideal</td>\n",
       "      <td>J</td>\n",
       "      <td>SI2</td>\n",
       "      <td>62.2</td>\n",
       "      <td>54.0</td>\n",
       "      <td>344</td>\n",
       "      <td>4.35</td>\n",
       "      <td>4.37</td>\n",
       "      <td>2.71</td>\n",
       "    </tr>\n",
       "    <tr>\n",
       "      <th>14</th>\n",
       "      <td>0.20</td>\n",
       "      <td>Premium</td>\n",
       "      <td>E</td>\n",
       "      <td>SI2</td>\n",
       "      <td>60.2</td>\n",
       "      <td>62.0</td>\n",
       "      <td>345</td>\n",
       "      <td>3.79</td>\n",
       "      <td>3.75</td>\n",
       "      <td>2.27</td>\n",
       "    </tr>\n",
       "    <tr>\n",
       "      <th>15</th>\n",
       "      <td>0.32</td>\n",
       "      <td>Premium</td>\n",
       "      <td>E</td>\n",
       "      <td>I1</td>\n",
       "      <td>60.9</td>\n",
       "      <td>58.0</td>\n",
       "      <td>345</td>\n",
       "      <td>4.38</td>\n",
       "      <td>4.42</td>\n",
       "      <td>2.68</td>\n",
       "    </tr>\n",
       "    <tr>\n",
       "      <th>16</th>\n",
       "      <td>0.30</td>\n",
       "      <td>Ideal</td>\n",
       "      <td>I</td>\n",
       "      <td>SI2</td>\n",
       "      <td>62.0</td>\n",
       "      <td>54.0</td>\n",
       "      <td>348</td>\n",
       "      <td>4.31</td>\n",
       "      <td>4.34</td>\n",
       "      <td>2.68</td>\n",
       "    </tr>\n",
       "    <tr>\n",
       "      <th>17</th>\n",
       "      <td>0.30</td>\n",
       "      <td>Good</td>\n",
       "      <td>J</td>\n",
       "      <td>SI1</td>\n",
       "      <td>63.4</td>\n",
       "      <td>54.0</td>\n",
       "      <td>351</td>\n",
       "      <td>4.23</td>\n",
       "      <td>4.29</td>\n",
       "      <td>2.70</td>\n",
       "    </tr>\n",
       "    <tr>\n",
       "      <th>18</th>\n",
       "      <td>0.30</td>\n",
       "      <td>Good</td>\n",
       "      <td>J</td>\n",
       "      <td>SI1</td>\n",
       "      <td>63.8</td>\n",
       "      <td>56.0</td>\n",
       "      <td>351</td>\n",
       "      <td>4.23</td>\n",
       "      <td>4.26</td>\n",
       "      <td>2.71</td>\n",
       "    </tr>\n",
       "    <tr>\n",
       "      <th>19</th>\n",
       "      <td>0.30</td>\n",
       "      <td>Very Good</td>\n",
       "      <td>J</td>\n",
       "      <td>SI1</td>\n",
       "      <td>62.7</td>\n",
       "      <td>59.0</td>\n",
       "      <td>351</td>\n",
       "      <td>4.21</td>\n",
       "      <td>4.27</td>\n",
       "      <td>2.66</td>\n",
       "    </tr>\n",
       "    <tr>\n",
       "      <th>20</th>\n",
       "      <td>0.30</td>\n",
       "      <td>Good</td>\n",
       "      <td>I</td>\n",
       "      <td>SI2</td>\n",
       "      <td>63.3</td>\n",
       "      <td>56.0</td>\n",
       "      <td>351</td>\n",
       "      <td>4.26</td>\n",
       "      <td>4.30</td>\n",
       "      <td>2.71</td>\n",
       "    </tr>\n",
       "    <tr>\n",
       "      <th>21</th>\n",
       "      <td>0.23</td>\n",
       "      <td>Very Good</td>\n",
       "      <td>E</td>\n",
       "      <td>VS2</td>\n",
       "      <td>63.8</td>\n",
       "      <td>55.0</td>\n",
       "      <td>352</td>\n",
       "      <td>3.85</td>\n",
       "      <td>3.92</td>\n",
       "      <td>2.48</td>\n",
       "    </tr>\n",
       "    <tr>\n",
       "      <th>22</th>\n",
       "      <td>0.23</td>\n",
       "      <td>Very Good</td>\n",
       "      <td>H</td>\n",
       "      <td>VS1</td>\n",
       "      <td>61.0</td>\n",
       "      <td>57.0</td>\n",
       "      <td>353</td>\n",
       "      <td>3.94</td>\n",
       "      <td>3.96</td>\n",
       "      <td>2.41</td>\n",
       "    </tr>\n",
       "    <tr>\n",
       "      <th>23</th>\n",
       "      <td>0.31</td>\n",
       "      <td>Very Good</td>\n",
       "      <td>J</td>\n",
       "      <td>SI1</td>\n",
       "      <td>59.4</td>\n",
       "      <td>62.0</td>\n",
       "      <td>353</td>\n",
       "      <td>4.39</td>\n",
       "      <td>4.43</td>\n",
       "      <td>2.62</td>\n",
       "    </tr>\n",
       "    <tr>\n",
       "      <th>24</th>\n",
       "      <td>0.31</td>\n",
       "      <td>Very Good</td>\n",
       "      <td>J</td>\n",
       "      <td>SI1</td>\n",
       "      <td>58.1</td>\n",
       "      <td>62.0</td>\n",
       "      <td>353</td>\n",
       "      <td>4.44</td>\n",
       "      <td>4.47</td>\n",
       "      <td>2.59</td>\n",
       "    </tr>\n",
       "    <tr>\n",
       "      <th>25</th>\n",
       "      <td>0.23</td>\n",
       "      <td>Very Good</td>\n",
       "      <td>G</td>\n",
       "      <td>VVS2</td>\n",
       "      <td>60.4</td>\n",
       "      <td>58.0</td>\n",
       "      <td>354</td>\n",
       "      <td>3.97</td>\n",
       "      <td>4.01</td>\n",
       "      <td>2.41</td>\n",
       "    </tr>\n",
       "    <tr>\n",
       "      <th>26</th>\n",
       "      <td>0.24</td>\n",
       "      <td>Premium</td>\n",
       "      <td>I</td>\n",
       "      <td>VS1</td>\n",
       "      <td>62.5</td>\n",
       "      <td>57.0</td>\n",
       "      <td>355</td>\n",
       "      <td>3.97</td>\n",
       "      <td>3.94</td>\n",
       "      <td>2.47</td>\n",
       "    </tr>\n",
       "    <tr>\n",
       "      <th>27</th>\n",
       "      <td>0.30</td>\n",
       "      <td>Very Good</td>\n",
       "      <td>J</td>\n",
       "      <td>VS2</td>\n",
       "      <td>62.2</td>\n",
       "      <td>57.0</td>\n",
       "      <td>357</td>\n",
       "      <td>4.28</td>\n",
       "      <td>4.30</td>\n",
       "      <td>2.67</td>\n",
       "    </tr>\n",
       "    <tr>\n",
       "      <th>28</th>\n",
       "      <td>0.23</td>\n",
       "      <td>Very Good</td>\n",
       "      <td>D</td>\n",
       "      <td>VS2</td>\n",
       "      <td>60.5</td>\n",
       "      <td>61.0</td>\n",
       "      <td>357</td>\n",
       "      <td>3.96</td>\n",
       "      <td>3.97</td>\n",
       "      <td>2.40</td>\n",
       "    </tr>\n",
       "    <tr>\n",
       "      <th>29</th>\n",
       "      <td>0.23</td>\n",
       "      <td>Very Good</td>\n",
       "      <td>F</td>\n",
       "      <td>VS1</td>\n",
       "      <td>60.9</td>\n",
       "      <td>57.0</td>\n",
       "      <td>357</td>\n",
       "      <td>3.96</td>\n",
       "      <td>3.99</td>\n",
       "      <td>2.42</td>\n",
       "    </tr>\n",
       "    <tr>\n",
       "      <th>...</th>\n",
       "      <td>...</td>\n",
       "      <td>...</td>\n",
       "      <td>...</td>\n",
       "      <td>...</td>\n",
       "      <td>...</td>\n",
       "      <td>...</td>\n",
       "      <td>...</td>\n",
       "      <td>...</td>\n",
       "      <td>...</td>\n",
       "      <td>...</td>\n",
       "    </tr>\n",
       "    <tr>\n",
       "      <th>53910</th>\n",
       "      <td>0.70</td>\n",
       "      <td>Premium</td>\n",
       "      <td>E</td>\n",
       "      <td>SI1</td>\n",
       "      <td>60.5</td>\n",
       "      <td>58.0</td>\n",
       "      <td>2753</td>\n",
       "      <td>5.74</td>\n",
       "      <td>5.77</td>\n",
       "      <td>3.48</td>\n",
       "    </tr>\n",
       "    <tr>\n",
       "      <th>53911</th>\n",
       "      <td>0.57</td>\n",
       "      <td>Premium</td>\n",
       "      <td>E</td>\n",
       "      <td>IF</td>\n",
       "      <td>59.8</td>\n",
       "      <td>60.0</td>\n",
       "      <td>2753</td>\n",
       "      <td>5.43</td>\n",
       "      <td>5.38</td>\n",
       "      <td>3.23</td>\n",
       "    </tr>\n",
       "    <tr>\n",
       "      <th>53912</th>\n",
       "      <td>0.61</td>\n",
       "      <td>Premium</td>\n",
       "      <td>F</td>\n",
       "      <td>VVS1</td>\n",
       "      <td>61.8</td>\n",
       "      <td>59.0</td>\n",
       "      <td>2753</td>\n",
       "      <td>5.48</td>\n",
       "      <td>5.40</td>\n",
       "      <td>3.36</td>\n",
       "    </tr>\n",
       "    <tr>\n",
       "      <th>53913</th>\n",
       "      <td>0.80</td>\n",
       "      <td>Good</td>\n",
       "      <td>G</td>\n",
       "      <td>VS2</td>\n",
       "      <td>64.2</td>\n",
       "      <td>58.0</td>\n",
       "      <td>2753</td>\n",
       "      <td>5.84</td>\n",
       "      <td>5.81</td>\n",
       "      <td>3.74</td>\n",
       "    </tr>\n",
       "    <tr>\n",
       "      <th>53914</th>\n",
       "      <td>0.84</td>\n",
       "      <td>Good</td>\n",
       "      <td>I</td>\n",
       "      <td>VS1</td>\n",
       "      <td>63.7</td>\n",
       "      <td>59.0</td>\n",
       "      <td>2753</td>\n",
       "      <td>5.94</td>\n",
       "      <td>5.90</td>\n",
       "      <td>3.77</td>\n",
       "    </tr>\n",
       "    <tr>\n",
       "      <th>53915</th>\n",
       "      <td>0.77</td>\n",
       "      <td>Ideal</td>\n",
       "      <td>E</td>\n",
       "      <td>SI2</td>\n",
       "      <td>62.1</td>\n",
       "      <td>56.0</td>\n",
       "      <td>2753</td>\n",
       "      <td>5.84</td>\n",
       "      <td>5.86</td>\n",
       "      <td>3.63</td>\n",
       "    </tr>\n",
       "    <tr>\n",
       "      <th>53916</th>\n",
       "      <td>0.74</td>\n",
       "      <td>Good</td>\n",
       "      <td>D</td>\n",
       "      <td>SI1</td>\n",
       "      <td>63.1</td>\n",
       "      <td>59.0</td>\n",
       "      <td>2753</td>\n",
       "      <td>5.71</td>\n",
       "      <td>5.74</td>\n",
       "      <td>3.61</td>\n",
       "    </tr>\n",
       "    <tr>\n",
       "      <th>53917</th>\n",
       "      <td>0.90</td>\n",
       "      <td>Very Good</td>\n",
       "      <td>J</td>\n",
       "      <td>SI1</td>\n",
       "      <td>63.2</td>\n",
       "      <td>60.0</td>\n",
       "      <td>2753</td>\n",
       "      <td>6.12</td>\n",
       "      <td>6.09</td>\n",
       "      <td>3.86</td>\n",
       "    </tr>\n",
       "    <tr>\n",
       "      <th>53918</th>\n",
       "      <td>0.76</td>\n",
       "      <td>Premium</td>\n",
       "      <td>I</td>\n",
       "      <td>VS1</td>\n",
       "      <td>59.3</td>\n",
       "      <td>62.0</td>\n",
       "      <td>2753</td>\n",
       "      <td>5.93</td>\n",
       "      <td>5.85</td>\n",
       "      <td>3.49</td>\n",
       "    </tr>\n",
       "    <tr>\n",
       "      <th>53919</th>\n",
       "      <td>0.76</td>\n",
       "      <td>Ideal</td>\n",
       "      <td>I</td>\n",
       "      <td>VVS1</td>\n",
       "      <td>62.2</td>\n",
       "      <td>55.0</td>\n",
       "      <td>2753</td>\n",
       "      <td>5.89</td>\n",
       "      <td>5.87</td>\n",
       "      <td>3.66</td>\n",
       "    </tr>\n",
       "    <tr>\n",
       "      <th>53920</th>\n",
       "      <td>0.70</td>\n",
       "      <td>Very Good</td>\n",
       "      <td>E</td>\n",
       "      <td>VS2</td>\n",
       "      <td>62.4</td>\n",
       "      <td>60.0</td>\n",
       "      <td>2755</td>\n",
       "      <td>5.57</td>\n",
       "      <td>5.61</td>\n",
       "      <td>3.49</td>\n",
       "    </tr>\n",
       "    <tr>\n",
       "      <th>53921</th>\n",
       "      <td>0.70</td>\n",
       "      <td>Very Good</td>\n",
       "      <td>E</td>\n",
       "      <td>VS2</td>\n",
       "      <td>62.8</td>\n",
       "      <td>60.0</td>\n",
       "      <td>2755</td>\n",
       "      <td>5.59</td>\n",
       "      <td>5.65</td>\n",
       "      <td>3.53</td>\n",
       "    </tr>\n",
       "    <tr>\n",
       "      <th>53922</th>\n",
       "      <td>0.70</td>\n",
       "      <td>Very Good</td>\n",
       "      <td>D</td>\n",
       "      <td>VS1</td>\n",
       "      <td>63.1</td>\n",
       "      <td>59.0</td>\n",
       "      <td>2755</td>\n",
       "      <td>5.67</td>\n",
       "      <td>5.58</td>\n",
       "      <td>3.55</td>\n",
       "    </tr>\n",
       "    <tr>\n",
       "      <th>53923</th>\n",
       "      <td>0.73</td>\n",
       "      <td>Ideal</td>\n",
       "      <td>I</td>\n",
       "      <td>VS2</td>\n",
       "      <td>61.3</td>\n",
       "      <td>56.0</td>\n",
       "      <td>2756</td>\n",
       "      <td>5.80</td>\n",
       "      <td>5.84</td>\n",
       "      <td>3.57</td>\n",
       "    </tr>\n",
       "    <tr>\n",
       "      <th>53924</th>\n",
       "      <td>0.73</td>\n",
       "      <td>Ideal</td>\n",
       "      <td>I</td>\n",
       "      <td>VS2</td>\n",
       "      <td>61.6</td>\n",
       "      <td>55.0</td>\n",
       "      <td>2756</td>\n",
       "      <td>5.82</td>\n",
       "      <td>5.84</td>\n",
       "      <td>3.59</td>\n",
       "    </tr>\n",
       "    <tr>\n",
       "      <th>53925</th>\n",
       "      <td>0.79</td>\n",
       "      <td>Ideal</td>\n",
       "      <td>I</td>\n",
       "      <td>SI1</td>\n",
       "      <td>61.6</td>\n",
       "      <td>56.0</td>\n",
       "      <td>2756</td>\n",
       "      <td>5.95</td>\n",
       "      <td>5.97</td>\n",
       "      <td>3.67</td>\n",
       "    </tr>\n",
       "    <tr>\n",
       "      <th>53926</th>\n",
       "      <td>0.71</td>\n",
       "      <td>Ideal</td>\n",
       "      <td>E</td>\n",
       "      <td>SI1</td>\n",
       "      <td>61.9</td>\n",
       "      <td>56.0</td>\n",
       "      <td>2756</td>\n",
       "      <td>5.71</td>\n",
       "      <td>5.73</td>\n",
       "      <td>3.54</td>\n",
       "    </tr>\n",
       "    <tr>\n",
       "      <th>53927</th>\n",
       "      <td>0.79</td>\n",
       "      <td>Good</td>\n",
       "      <td>F</td>\n",
       "      <td>SI1</td>\n",
       "      <td>58.1</td>\n",
       "      <td>59.0</td>\n",
       "      <td>2756</td>\n",
       "      <td>6.06</td>\n",
       "      <td>6.13</td>\n",
       "      <td>3.54</td>\n",
       "    </tr>\n",
       "    <tr>\n",
       "      <th>53928</th>\n",
       "      <td>0.79</td>\n",
       "      <td>Premium</td>\n",
       "      <td>E</td>\n",
       "      <td>SI2</td>\n",
       "      <td>61.4</td>\n",
       "      <td>58.0</td>\n",
       "      <td>2756</td>\n",
       "      <td>6.03</td>\n",
       "      <td>5.96</td>\n",
       "      <td>3.68</td>\n",
       "    </tr>\n",
       "    <tr>\n",
       "      <th>53929</th>\n",
       "      <td>0.71</td>\n",
       "      <td>Ideal</td>\n",
       "      <td>G</td>\n",
       "      <td>VS1</td>\n",
       "      <td>61.4</td>\n",
       "      <td>56.0</td>\n",
       "      <td>2756</td>\n",
       "      <td>5.76</td>\n",
       "      <td>5.73</td>\n",
       "      <td>3.53</td>\n",
       "    </tr>\n",
       "    <tr>\n",
       "      <th>53930</th>\n",
       "      <td>0.71</td>\n",
       "      <td>Premium</td>\n",
       "      <td>E</td>\n",
       "      <td>SI1</td>\n",
       "      <td>60.5</td>\n",
       "      <td>55.0</td>\n",
       "      <td>2756</td>\n",
       "      <td>5.79</td>\n",
       "      <td>5.74</td>\n",
       "      <td>3.49</td>\n",
       "    </tr>\n",
       "    <tr>\n",
       "      <th>53931</th>\n",
       "      <td>0.71</td>\n",
       "      <td>Premium</td>\n",
       "      <td>F</td>\n",
       "      <td>SI1</td>\n",
       "      <td>59.8</td>\n",
       "      <td>62.0</td>\n",
       "      <td>2756</td>\n",
       "      <td>5.74</td>\n",
       "      <td>5.73</td>\n",
       "      <td>3.43</td>\n",
       "    </tr>\n",
       "    <tr>\n",
       "      <th>53932</th>\n",
       "      <td>0.70</td>\n",
       "      <td>Very Good</td>\n",
       "      <td>E</td>\n",
       "      <td>VS2</td>\n",
       "      <td>60.5</td>\n",
       "      <td>59.0</td>\n",
       "      <td>2757</td>\n",
       "      <td>5.71</td>\n",
       "      <td>5.76</td>\n",
       "      <td>3.47</td>\n",
       "    </tr>\n",
       "    <tr>\n",
       "      <th>53933</th>\n",
       "      <td>0.70</td>\n",
       "      <td>Very Good</td>\n",
       "      <td>E</td>\n",
       "      <td>VS2</td>\n",
       "      <td>61.2</td>\n",
       "      <td>59.0</td>\n",
       "      <td>2757</td>\n",
       "      <td>5.69</td>\n",
       "      <td>5.72</td>\n",
       "      <td>3.49</td>\n",
       "    </tr>\n",
       "    <tr>\n",
       "      <th>53934</th>\n",
       "      <td>0.72</td>\n",
       "      <td>Premium</td>\n",
       "      <td>D</td>\n",
       "      <td>SI1</td>\n",
       "      <td>62.7</td>\n",
       "      <td>59.0</td>\n",
       "      <td>2757</td>\n",
       "      <td>5.69</td>\n",
       "      <td>5.73</td>\n",
       "      <td>3.58</td>\n",
       "    </tr>\n",
       "    <tr>\n",
       "      <th>53935</th>\n",
       "      <td>0.72</td>\n",
       "      <td>Ideal</td>\n",
       "      <td>D</td>\n",
       "      <td>SI1</td>\n",
       "      <td>60.8</td>\n",
       "      <td>57.0</td>\n",
       "      <td>2757</td>\n",
       "      <td>5.75</td>\n",
       "      <td>5.76</td>\n",
       "      <td>3.50</td>\n",
       "    </tr>\n",
       "    <tr>\n",
       "      <th>53936</th>\n",
       "      <td>0.72</td>\n",
       "      <td>Good</td>\n",
       "      <td>D</td>\n",
       "      <td>SI1</td>\n",
       "      <td>63.1</td>\n",
       "      <td>55.0</td>\n",
       "      <td>2757</td>\n",
       "      <td>5.69</td>\n",
       "      <td>5.75</td>\n",
       "      <td>3.61</td>\n",
       "    </tr>\n",
       "    <tr>\n",
       "      <th>53937</th>\n",
       "      <td>0.70</td>\n",
       "      <td>Very Good</td>\n",
       "      <td>D</td>\n",
       "      <td>SI1</td>\n",
       "      <td>62.8</td>\n",
       "      <td>60.0</td>\n",
       "      <td>2757</td>\n",
       "      <td>5.66</td>\n",
       "      <td>5.68</td>\n",
       "      <td>3.56</td>\n",
       "    </tr>\n",
       "    <tr>\n",
       "      <th>53938</th>\n",
       "      <td>0.86</td>\n",
       "      <td>Premium</td>\n",
       "      <td>H</td>\n",
       "      <td>SI2</td>\n",
       "      <td>61.0</td>\n",
       "      <td>58.0</td>\n",
       "      <td>2757</td>\n",
       "      <td>6.15</td>\n",
       "      <td>6.12</td>\n",
       "      <td>3.74</td>\n",
       "    </tr>\n",
       "    <tr>\n",
       "      <th>53939</th>\n",
       "      <td>0.75</td>\n",
       "      <td>Ideal</td>\n",
       "      <td>D</td>\n",
       "      <td>SI2</td>\n",
       "      <td>62.2</td>\n",
       "      <td>55.0</td>\n",
       "      <td>2757</td>\n",
       "      <td>5.83</td>\n",
       "      <td>5.87</td>\n",
       "      <td>3.64</td>\n",
       "    </tr>\n",
       "  </tbody>\n",
       "</table>\n",
       "<p>53940 rows × 10 columns</p>\n",
       "</div>"
      ],
      "text/plain": [
       "       carat        cut color clarity  depth  table  price     x     y     z\n",
       "0       0.23      Ideal     E     SI2   61.5   55.0    326  3.95  3.98  2.43\n",
       "1       0.21    Premium     E     SI1   59.8   61.0    326  3.89  3.84  2.31\n",
       "2       0.23       Good     E     VS1   56.9   65.0    327  4.05  4.07  2.31\n",
       "3       0.29    Premium     I     VS2   62.4   58.0    334  4.20  4.23  2.63\n",
       "4       0.31       Good     J     SI2   63.3   58.0    335  4.34  4.35  2.75\n",
       "5       0.24  Very Good     J    VVS2   62.8   57.0    336  3.94  3.96  2.48\n",
       "6       0.24  Very Good     I    VVS1   62.3   57.0    336  3.95  3.98  2.47\n",
       "7       0.26  Very Good     H     SI1   61.9   55.0    337  4.07  4.11  2.53\n",
       "8       0.22       Fair     E     VS2   65.1   61.0    337  3.87  3.78  2.49\n",
       "9       0.23  Very Good     H     VS1   59.4   61.0    338  4.00  4.05  2.39\n",
       "10      0.30       Good     J     SI1   64.0   55.0    339  4.25  4.28  2.73\n",
       "11      0.23      Ideal     J     VS1   62.8   56.0    340  3.93  3.90  2.46\n",
       "12      0.22    Premium     F     SI1   60.4   61.0    342  3.88  3.84  2.33\n",
       "13      0.31      Ideal     J     SI2   62.2   54.0    344  4.35  4.37  2.71\n",
       "14      0.20    Premium     E     SI2   60.2   62.0    345  3.79  3.75  2.27\n",
       "15      0.32    Premium     E      I1   60.9   58.0    345  4.38  4.42  2.68\n",
       "16      0.30      Ideal     I     SI2   62.0   54.0    348  4.31  4.34  2.68\n",
       "17      0.30       Good     J     SI1   63.4   54.0    351  4.23  4.29  2.70\n",
       "18      0.30       Good     J     SI1   63.8   56.0    351  4.23  4.26  2.71\n",
       "19      0.30  Very Good     J     SI1   62.7   59.0    351  4.21  4.27  2.66\n",
       "20      0.30       Good     I     SI2   63.3   56.0    351  4.26  4.30  2.71\n",
       "21      0.23  Very Good     E     VS2   63.8   55.0    352  3.85  3.92  2.48\n",
       "22      0.23  Very Good     H     VS1   61.0   57.0    353  3.94  3.96  2.41\n",
       "23      0.31  Very Good     J     SI1   59.4   62.0    353  4.39  4.43  2.62\n",
       "24      0.31  Very Good     J     SI1   58.1   62.0    353  4.44  4.47  2.59\n",
       "25      0.23  Very Good     G    VVS2   60.4   58.0    354  3.97  4.01  2.41\n",
       "26      0.24    Premium     I     VS1   62.5   57.0    355  3.97  3.94  2.47\n",
       "27      0.30  Very Good     J     VS2   62.2   57.0    357  4.28  4.30  2.67\n",
       "28      0.23  Very Good     D     VS2   60.5   61.0    357  3.96  3.97  2.40\n",
       "29      0.23  Very Good     F     VS1   60.9   57.0    357  3.96  3.99  2.42\n",
       "...      ...        ...   ...     ...    ...    ...    ...   ...   ...   ...\n",
       "53910   0.70    Premium     E     SI1   60.5   58.0   2753  5.74  5.77  3.48\n",
       "53911   0.57    Premium     E      IF   59.8   60.0   2753  5.43  5.38  3.23\n",
       "53912   0.61    Premium     F    VVS1   61.8   59.0   2753  5.48  5.40  3.36\n",
       "53913   0.80       Good     G     VS2   64.2   58.0   2753  5.84  5.81  3.74\n",
       "53914   0.84       Good     I     VS1   63.7   59.0   2753  5.94  5.90  3.77\n",
       "53915   0.77      Ideal     E     SI2   62.1   56.0   2753  5.84  5.86  3.63\n",
       "53916   0.74       Good     D     SI1   63.1   59.0   2753  5.71  5.74  3.61\n",
       "53917   0.90  Very Good     J     SI1   63.2   60.0   2753  6.12  6.09  3.86\n",
       "53918   0.76    Premium     I     VS1   59.3   62.0   2753  5.93  5.85  3.49\n",
       "53919   0.76      Ideal     I    VVS1   62.2   55.0   2753  5.89  5.87  3.66\n",
       "53920   0.70  Very Good     E     VS2   62.4   60.0   2755  5.57  5.61  3.49\n",
       "53921   0.70  Very Good     E     VS2   62.8   60.0   2755  5.59  5.65  3.53\n",
       "53922   0.70  Very Good     D     VS1   63.1   59.0   2755  5.67  5.58  3.55\n",
       "53923   0.73      Ideal     I     VS2   61.3   56.0   2756  5.80  5.84  3.57\n",
       "53924   0.73      Ideal     I     VS2   61.6   55.0   2756  5.82  5.84  3.59\n",
       "53925   0.79      Ideal     I     SI1   61.6   56.0   2756  5.95  5.97  3.67\n",
       "53926   0.71      Ideal     E     SI1   61.9   56.0   2756  5.71  5.73  3.54\n",
       "53927   0.79       Good     F     SI1   58.1   59.0   2756  6.06  6.13  3.54\n",
       "53928   0.79    Premium     E     SI2   61.4   58.0   2756  6.03  5.96  3.68\n",
       "53929   0.71      Ideal     G     VS1   61.4   56.0   2756  5.76  5.73  3.53\n",
       "53930   0.71    Premium     E     SI1   60.5   55.0   2756  5.79  5.74  3.49\n",
       "53931   0.71    Premium     F     SI1   59.8   62.0   2756  5.74  5.73  3.43\n",
       "53932   0.70  Very Good     E     VS2   60.5   59.0   2757  5.71  5.76  3.47\n",
       "53933   0.70  Very Good     E     VS2   61.2   59.0   2757  5.69  5.72  3.49\n",
       "53934   0.72    Premium     D     SI1   62.7   59.0   2757  5.69  5.73  3.58\n",
       "53935   0.72      Ideal     D     SI1   60.8   57.0   2757  5.75  5.76  3.50\n",
       "53936   0.72       Good     D     SI1   63.1   55.0   2757  5.69  5.75  3.61\n",
       "53937   0.70  Very Good     D     SI1   62.8   60.0   2757  5.66  5.68  3.56\n",
       "53938   0.86    Premium     H     SI2   61.0   58.0   2757  6.15  6.12  3.74\n",
       "53939   0.75      Ideal     D     SI2   62.2   55.0   2757  5.83  5.87  3.64\n",
       "\n",
       "[53940 rows x 10 columns]"
      ]
     },
     "execution_count": 181,
     "metadata": {},
     "output_type": "execute_result"
    }
   ],
   "source": [
    "csv_file = \"../2.1-intro-to-pandas-1/datasets/diamonds.csv\"\n",
    "diamonds = pd.read_csv(csv_file)\n",
    "\n",
    "### Finish the practice here.\n",
    "diamonds"
   ]
  },
  {
   "cell_type": "markdown",
   "metadata": {
    "slideshow": {
     "slide_type": "slide"
    }
   },
   "source": [
    "### Conclusion\n",
    "\n",
    "1. If we considered the cleanliness of a dataset, which aspects would you be most concerned with, but most importantly, how would you inspect / investigate it to determine how clean it was?\n",
    "1. Which potential problems with data, might you think could arrise before predictive modeling / machine learning?\n",
    "1. What can you do with a DataFrame that you can't do with a series?\n"
   ]
  }
 ],
 "metadata": {
  "anaconda-cloud": {},
  "celltoolbar": "Slideshow",
  "kernelspec": {
   "display_name": "Python [default]",
   "language": "python",
   "name": "python3"
  },
  "language_info": {
   "codemirror_mode": {
    "name": "ipython",
    "version": 3
   },
   "file_extension": ".py",
   "mimetype": "text/x-python",
   "name": "python",
   "nbconvert_exporter": "python",
   "pygments_lexer": "ipython3",
   "version": "3.6.5"
  },
  "nbpresent": {
   "slides": {
    "5d802dcc-eba2-49cc-b8a7-4ba12c601026": {
     "id": "5d802dcc-eba2-49cc-b8a7-4ba12c601026",
     "prev": null,
     "regions": {
      "19d2ea1f-046e-4733-8563-5001186e649c": {
       "attrs": {
        "height": 1,
        "width": 1,
        "x": 0,
        "y": 0
       },
       "content": {
        "cell": "3433c1f4-195d-4a6b-8ad6-961d54c4c96d",
        "part": "source"
       },
       "id": "19d2ea1f-046e-4733-8563-5001186e649c"
      }
     },
     "theme": null
    },
    "b84d227e-3775-4693-a414-689ea9c77c6f": {
     "id": "b84d227e-3775-4693-a414-689ea9c77c6f",
     "prev": "c9e607c1-dc97-4a52-a24b-c5fa7fec789f",
     "regions": {
      "f05b4e9e-0831-49cc-8a61-40c615d0aed6": {
       "attrs": {
        "height": 1,
        "width": 1,
        "x": 0,
        "y": 0
       },
       "content": {
        "cell": "e9917673-4eb8-403d-95ba-3068360f3dcd",
        "part": "source"
       },
       "id": "f05b4e9e-0831-49cc-8a61-40c615d0aed6"
      }
     }
    },
    "c9e607c1-dc97-4a52-a24b-c5fa7fec789f": {
     "id": "c9e607c1-dc97-4a52-a24b-c5fa7fec789f",
     "prev": "5d802dcc-eba2-49cc-b8a7-4ba12c601026",
     "regions": {
      "be473921-0ea3-42d1-9fd2-6b9257a8966d": {
       "attrs": {
        "height": 1,
        "width": 1,
        "x": 0,
        "y": 0
       },
       "id": "be473921-0ea3-42d1-9fd2-6b9257a8966d"
      }
     }
    }
   },
   "themes": {
    "default": "5fe298e2-cc87-47e9-b12c-6f4471f17350",
    "theme": {
     "5fe298e2-cc87-47e9-b12c-6f4471f17350": {
      "id": "5fe298e2-cc87-47e9-b12c-6f4471f17350",
      "palette": {
       "19cc588f-0593-49c9-9f4b-e4d7cc113b1c": {
        "id": "19cc588f-0593-49c9-9f4b-e4d7cc113b1c",
        "rgb": [
         252,
         252,
         252
        ]
       },
       "31af15d2-7e15-44c5-ab5e-e04b16a89eff": {
        "id": "31af15d2-7e15-44c5-ab5e-e04b16a89eff",
        "rgb": [
         68,
         68,
         68
        ]
       },
       "50f92c45-a630-455b-aec3-788680ec7410": {
        "id": "50f92c45-a630-455b-aec3-788680ec7410",
        "rgb": [
         155,
         177,
         192
        ]
       },
       "c5cc3653-2ee1-402a-aba2-7caae1da4f6c": {
        "id": "c5cc3653-2ee1-402a-aba2-7caae1da4f6c",
        "rgb": [
         43,
         126,
         184
        ]
       },
       "efa7f048-9acb-414c-8b04-a26811511a21": {
        "id": "efa7f048-9acb-414c-8b04-a26811511a21",
        "rgb": [
         25.118061674008803,
         73.60176211453744,
         107.4819383259912
        ]
       }
      },
      "rules": {
       "blockquote": {
        "color": "50f92c45-a630-455b-aec3-788680ec7410"
       },
       "code": {
        "font-family": "Anonymous Pro"
       },
       "h1": {
        "color": "c5cc3653-2ee1-402a-aba2-7caae1da4f6c",
        "font-family": "Lato",
        "font-size": 8
       },
       "h2": {
        "color": "c5cc3653-2ee1-402a-aba2-7caae1da4f6c",
        "font-family": "Lato",
        "font-size": 6
       },
       "h3": {
        "color": "50f92c45-a630-455b-aec3-788680ec7410",
        "font-family": "Lato",
        "font-size": 5.5
       },
       "h4": {
        "color": "c5cc3653-2ee1-402a-aba2-7caae1da4f6c",
        "font-family": "Lato",
        "font-size": 5
       },
       "h5": {
        "font-family": "Lato"
       },
       "h6": {
        "font-family": "Lato"
       },
       "h7": {
        "font-family": "Lato"
       },
       "pre": {
        "font-family": "Anonymous Pro",
        "font-size": 4
       }
      },
      "text-base": {
       "font-family": "Merriweather",
       "font-size": 4
      }
     }
    }
   }
  }
 },
 "nbformat": 4,
 "nbformat_minor": 1
}
